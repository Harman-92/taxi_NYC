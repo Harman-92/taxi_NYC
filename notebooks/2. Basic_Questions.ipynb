{
 "cells": [
  {
   "cell_type": "code",
   "execution_count": 20,
   "metadata": {},
   "outputs": [],
   "source": [
    "import pandas as pd\n",
    "import seaborn as sns\n",
    "import matplotlib.pyplot as plt\n",
    "from geopy.geocoders import Nominatim\n",
    "import numpy as np\n",
    "import warnings\n",
    "warnings.filterwarnings('ignore')\n",
    "pd.set_option('display.max_colwidth',1000)\n",
    "pd.set_option('display.float_format', lambda x: '%.5f' % x)"
   ]
  },
  {
   "cell_type": "code",
   "execution_count": 21,
   "metadata": {},
   "outputs": [
    {
     "name": "stdout",
     "output_type": "stream",
     "text": [
      "<class 'pandas.core.frame.DataFrame'>\n",
      "RangeIndex: 11308202 entries, 0 to 11308201\n",
      "Data columns (total 20 columns):\n",
      " #   Column             Dtype         \n",
      "---  ------             -----         \n",
      " 0   medallion          object        \n",
      " 1   hack_license       object        \n",
      " 2   vendor_id          object        \n",
      " 3   rate_code          int64         \n",
      " 4   pickup_datetime    datetime64[ns]\n",
      " 5   dropoff_datetime   datetime64[ns]\n",
      " 6   passenger_count    int64         \n",
      " 7   trip_time_in_secs  int64         \n",
      " 8   trip_distance      float64       \n",
      " 9   pickup_longitude   float64       \n",
      " 10  pickup_latitude    float64       \n",
      " 11  dropoff_longitude  float64       \n",
      " 12  dropoff_latitude   float64       \n",
      " 13  payment_type       object        \n",
      " 14  fare_amount        float64       \n",
      " 15  surcharge          float64       \n",
      " 16  mta_tax            float64       \n",
      " 17  tip_amount         float64       \n",
      " 18  tolls_amount       float64       \n",
      " 19  total_amount       float64       \n",
      "dtypes: datetime64[ns](2), float64(11), int64(3), object(4)\n",
      "memory usage: 1.7+ GB\n"
     ]
    }
   ],
   "source": [
    "trips = pd.read_csv('../data/trips.csv',parse_dates=['pickup_datetime','dropoff_datetime'])\n",
    "\n",
    "trips.info()"
   ]
  },
  {
   "cell_type": "code",
   "execution_count": 22,
   "metadata": {},
   "outputs": [
    {
     "data": {
      "text/html": [
       "<div>\n",
       "<style scoped>\n",
       "    .dataframe tbody tr th:only-of-type {\n",
       "        vertical-align: middle;\n",
       "    }\n",
       "\n",
       "    .dataframe tbody tr th {\n",
       "        vertical-align: top;\n",
       "    }\n",
       "\n",
       "    .dataframe thead th {\n",
       "        text-align: right;\n",
       "    }\n",
       "</style>\n",
       "<table border=\"1\" class=\"dataframe\">\n",
       "  <thead>\n",
       "    <tr style=\"text-align: right;\">\n",
       "      <th></th>\n",
       "      <th>medallion</th>\n",
       "      <th>hack_license</th>\n",
       "      <th>vendor_id</th>\n",
       "      <th>rate_code</th>\n",
       "      <th>pickup_datetime</th>\n",
       "      <th>dropoff_datetime</th>\n",
       "      <th>passenger_count</th>\n",
       "      <th>trip_time_in_secs</th>\n",
       "      <th>trip_distance</th>\n",
       "      <th>pickup_longitude</th>\n",
       "      <th>pickup_latitude</th>\n",
       "      <th>dropoff_longitude</th>\n",
       "      <th>dropoff_latitude</th>\n",
       "      <th>payment_type</th>\n",
       "      <th>fare_amount</th>\n",
       "      <th>surcharge</th>\n",
       "      <th>mta_tax</th>\n",
       "      <th>tip_amount</th>\n",
       "      <th>tolls_amount</th>\n",
       "      <th>total_amount</th>\n",
       "    </tr>\n",
       "  </thead>\n",
       "  <tbody>\n",
       "    <tr>\n",
       "      <th>0</th>\n",
       "      <td>91F6EB84975BBC867E32CB113C7C2CD5</td>\n",
       "      <td>AD8751110E6292079EB10EB9481FE1A6</td>\n",
       "      <td>CMT</td>\n",
       "      <td>1</td>\n",
       "      <td>2013-04-04 18:47:45</td>\n",
       "      <td>2013-04-04 19:00:25</td>\n",
       "      <td>1</td>\n",
       "      <td>759</td>\n",
       "      <td>2.50000</td>\n",
       "      <td>-73.95785</td>\n",
       "      <td>40.76532</td>\n",
       "      <td>-73.97627</td>\n",
       "      <td>40.78565</td>\n",
       "      <td>CRD</td>\n",
       "      <td>11.00000</td>\n",
       "      <td>1.00000</td>\n",
       "      <td>0.50000</td>\n",
       "      <td>2.50000</td>\n",
       "      <td>0.00000</td>\n",
       "      <td>15.00000</td>\n",
       "    </tr>\n",
       "    <tr>\n",
       "      <th>1</th>\n",
       "      <td>9BA84250355AB3FC031C9252D395BF8A</td>\n",
       "      <td>16BB0D96A0DCC853AEC7F55C8D6C71E0</td>\n",
       "      <td>CMT</td>\n",
       "      <td>1</td>\n",
       "      <td>2013-04-04 18:12:01</td>\n",
       "      <td>2013-04-04 18:25:24</td>\n",
       "      <td>1</td>\n",
       "      <td>799</td>\n",
       "      <td>1.90000</td>\n",
       "      <td>-73.97812</td>\n",
       "      <td>40.76345</td>\n",
       "      <td>-73.95567</td>\n",
       "      <td>40.77664</td>\n",
       "      <td>CRD</td>\n",
       "      <td>10.00000</td>\n",
       "      <td>1.00000</td>\n",
       "      <td>0.50000</td>\n",
       "      <td>3.45000</td>\n",
       "      <td>0.00000</td>\n",
       "      <td>14.95000</td>\n",
       "    </tr>\n",
       "    <tr>\n",
       "      <th>2</th>\n",
       "      <td>EE75E5927D00739AC342810C336A825E</td>\n",
       "      <td>1B4E92431F9DA4D49874EC76E769E874</td>\n",
       "      <td>CMT</td>\n",
       "      <td>1</td>\n",
       "      <td>2013-04-05 02:48:11</td>\n",
       "      <td>2013-04-05 02:51:21</td>\n",
       "      <td>2</td>\n",
       "      <td>189</td>\n",
       "      <td>0.70000</td>\n",
       "      <td>-73.98519</td>\n",
       "      <td>40.75493</td>\n",
       "      <td>-73.99078</td>\n",
       "      <td>40.74800</td>\n",
       "      <td>CRD</td>\n",
       "      <td>4.50000</td>\n",
       "      <td>0.50000</td>\n",
       "      <td>0.50000</td>\n",
       "      <td>1.10000</td>\n",
       "      <td>0.00000</td>\n",
       "      <td>6.60000</td>\n",
       "    </tr>\n",
       "    <tr>\n",
       "      <th>3</th>\n",
       "      <td>3B5DA0DE0868F37FD41204DB36CE87CA</td>\n",
       "      <td>BC7B6E5A0132450CAE072F3C8F60BBE4</td>\n",
       "      <td>CMT</td>\n",
       "      <td>1</td>\n",
       "      <td>2013-04-05 06:16:10</td>\n",
       "      <td>2013-04-05 06:22:05</td>\n",
       "      <td>1</td>\n",
       "      <td>354</td>\n",
       "      <td>1.20000</td>\n",
       "      <td>-73.98517</td>\n",
       "      <td>40.76342</td>\n",
       "      <td>-73.97887</td>\n",
       "      <td>40.75114</td>\n",
       "      <td>CRD</td>\n",
       "      <td>6.50000</td>\n",
       "      <td>0.00000</td>\n",
       "      <td>0.50000</td>\n",
       "      <td>1.00000</td>\n",
       "      <td>0.00000</td>\n",
       "      <td>8.00000</td>\n",
       "    </tr>\n",
       "    <tr>\n",
       "      <th>4</th>\n",
       "      <td>75FEF473DB69BA7BC5D61F5635792E1E</td>\n",
       "      <td>FCD2C03A60D84CE91A4DEB5E6A097FCF</td>\n",
       "      <td>CMT</td>\n",
       "      <td>1</td>\n",
       "      <td>2013-04-04 19:20:16</td>\n",
       "      <td>2013-04-04 19:30:52</td>\n",
       "      <td>1</td>\n",
       "      <td>635</td>\n",
       "      <td>0.40000</td>\n",
       "      <td>-73.97848</td>\n",
       "      <td>40.76123</td>\n",
       "      <td>-73.98457</td>\n",
       "      <td>40.75941</td>\n",
       "      <td>CRD</td>\n",
       "      <td>7.50000</td>\n",
       "      <td>1.00000</td>\n",
       "      <td>0.50000</td>\n",
       "      <td>2.25000</td>\n",
       "      <td>0.00000</td>\n",
       "      <td>11.25000</td>\n",
       "    </tr>\n",
       "  </tbody>\n",
       "</table>\n",
       "</div>"
      ],
      "text/plain": [
       "                          medallion                      hack_license  \\\n",
       "0  91F6EB84975BBC867E32CB113C7C2CD5  AD8751110E6292079EB10EB9481FE1A6   \n",
       "1  9BA84250355AB3FC031C9252D395BF8A  16BB0D96A0DCC853AEC7F55C8D6C71E0   \n",
       "2  EE75E5927D00739AC342810C336A825E  1B4E92431F9DA4D49874EC76E769E874   \n",
       "3  3B5DA0DE0868F37FD41204DB36CE87CA  BC7B6E5A0132450CAE072F3C8F60BBE4   \n",
       "4  75FEF473DB69BA7BC5D61F5635792E1E  FCD2C03A60D84CE91A4DEB5E6A097FCF   \n",
       "\n",
       "  vendor_id  rate_code     pickup_datetime    dropoff_datetime  \\\n",
       "0       CMT          1 2013-04-04 18:47:45 2013-04-04 19:00:25   \n",
       "1       CMT          1 2013-04-04 18:12:01 2013-04-04 18:25:24   \n",
       "2       CMT          1 2013-04-05 02:48:11 2013-04-05 02:51:21   \n",
       "3       CMT          1 2013-04-05 06:16:10 2013-04-05 06:22:05   \n",
       "4       CMT          1 2013-04-04 19:20:16 2013-04-04 19:30:52   \n",
       "\n",
       "   passenger_count  trip_time_in_secs  trip_distance  pickup_longitude  \\\n",
       "0                1                759        2.50000         -73.95785   \n",
       "1                1                799        1.90000         -73.97812   \n",
       "2                2                189        0.70000         -73.98519   \n",
       "3                1                354        1.20000         -73.98517   \n",
       "4                1                635        0.40000         -73.97848   \n",
       "\n",
       "   pickup_latitude  dropoff_longitude  dropoff_latitude payment_type  \\\n",
       "0         40.76532          -73.97627          40.78565          CRD   \n",
       "1         40.76345          -73.95567          40.77664          CRD   \n",
       "2         40.75493          -73.99078          40.74800          CRD   \n",
       "3         40.76342          -73.97887          40.75114          CRD   \n",
       "4         40.76123          -73.98457          40.75941          CRD   \n",
       "\n",
       "   fare_amount  surcharge  mta_tax  tip_amount  tolls_amount  total_amount  \n",
       "0     11.00000    1.00000  0.50000     2.50000       0.00000      15.00000  \n",
       "1     10.00000    1.00000  0.50000     3.45000       0.00000      14.95000  \n",
       "2      4.50000    0.50000  0.50000     1.10000       0.00000       6.60000  \n",
       "3      6.50000    0.00000  0.50000     1.00000       0.00000       8.00000  \n",
       "4      7.50000    1.00000  0.50000     2.25000       0.00000      11.25000  "
      ]
     },
     "execution_count": 22,
     "metadata": {},
     "output_type": "execute_result"
    }
   ],
   "source": [
    "trips.head()"
   ]
  },
  {
   "cell_type": "code",
   "execution_count": 23,
   "metadata": {},
   "outputs": [
    {
     "data": {
      "text/html": [
       "<div>\n",
       "<style scoped>\n",
       "    .dataframe tbody tr th:only-of-type {\n",
       "        vertical-align: middle;\n",
       "    }\n",
       "\n",
       "    .dataframe tbody tr th {\n",
       "        vertical-align: top;\n",
       "    }\n",
       "\n",
       "    .dataframe thead th {\n",
       "        text-align: right;\n",
       "    }\n",
       "</style>\n",
       "<table border=\"1\" class=\"dataframe\">\n",
       "  <thead>\n",
       "    <tr style=\"text-align: right;\">\n",
       "      <th></th>\n",
       "      <th>rate_code</th>\n",
       "      <th>passenger_count</th>\n",
       "      <th>trip_time_in_secs</th>\n",
       "      <th>trip_distance</th>\n",
       "      <th>pickup_longitude</th>\n",
       "      <th>pickup_latitude</th>\n",
       "      <th>dropoff_longitude</th>\n",
       "      <th>dropoff_latitude</th>\n",
       "      <th>fare_amount</th>\n",
       "      <th>surcharge</th>\n",
       "      <th>mta_tax</th>\n",
       "      <th>tip_amount</th>\n",
       "      <th>tolls_amount</th>\n",
       "      <th>total_amount</th>\n",
       "    </tr>\n",
       "  </thead>\n",
       "  <tbody>\n",
       "    <tr>\n",
       "      <th>count</th>\n",
       "      <td>11308202.00000</td>\n",
       "      <td>11308202.00000</td>\n",
       "      <td>11308202.00000</td>\n",
       "      <td>11308202.00000</td>\n",
       "      <td>11308202.00000</td>\n",
       "      <td>11308202.00000</td>\n",
       "      <td>11308202.00000</td>\n",
       "      <td>11308202.00000</td>\n",
       "      <td>11308202.00000</td>\n",
       "      <td>11308202.00000</td>\n",
       "      <td>11308202.00000</td>\n",
       "      <td>11308202.00000</td>\n",
       "      <td>11308202.00000</td>\n",
       "      <td>11308202.00000</td>\n",
       "    </tr>\n",
       "    <tr>\n",
       "      <th>mean</th>\n",
       "      <td>1.02284</td>\n",
       "      <td>1.71049</td>\n",
       "      <td>725.51497</td>\n",
       "      <td>2.79641</td>\n",
       "      <td>-73.96955</td>\n",
       "      <td>40.75549</td>\n",
       "      <td>-73.96849</td>\n",
       "      <td>40.75647</td>\n",
       "      <td>11.83751</td>\n",
       "      <td>0.32469</td>\n",
       "      <td>0.49979</td>\n",
       "      <td>1.26634</td>\n",
       "      <td>0.25703</td>\n",
       "      <td>14.18536</td>\n",
       "    </tr>\n",
       "    <tr>\n",
       "      <th>std</th>\n",
       "      <td>0.24769</td>\n",
       "      <td>1.39063</td>\n",
       "      <td>547.45298</td>\n",
       "      <td>3.36356</td>\n",
       "      <td>0.03464</td>\n",
       "      <td>0.02691</td>\n",
       "      <td>0.03229</td>\n",
       "      <td>0.03016</td>\n",
       "      <td>9.39296</td>\n",
       "      <td>0.37000</td>\n",
       "      <td>0.01016</td>\n",
       "      <td>2.01152</td>\n",
       "      <td>1.14764</td>\n",
       "      <td>11.30906</td>\n",
       "    </tr>\n",
       "    <tr>\n",
       "      <th>min</th>\n",
       "      <td>0.00000</td>\n",
       "      <td>1.00000</td>\n",
       "      <td>1.00000</td>\n",
       "      <td>0.01000</td>\n",
       "      <td>-73.99999</td>\n",
       "      <td>40.03132</td>\n",
       "      <td>-73.99999</td>\n",
       "      <td>40.01667</td>\n",
       "      <td>2.50000</td>\n",
       "      <td>0.00000</td>\n",
       "      <td>0.00000</td>\n",
       "      <td>0.00000</td>\n",
       "      <td>0.00000</td>\n",
       "      <td>2.50000</td>\n",
       "    </tr>\n",
       "    <tr>\n",
       "      <th>25%</th>\n",
       "      <td>1.00000</td>\n",
       "      <td>1.00000</td>\n",
       "      <td>360.00000</td>\n",
       "      <td>1.00000</td>\n",
       "      <td>-73.98744</td>\n",
       "      <td>40.74380</td>\n",
       "      <td>-73.98608</td>\n",
       "      <td>40.74379</td>\n",
       "      <td>6.50000</td>\n",
       "      <td>0.00000</td>\n",
       "      <td>0.50000</td>\n",
       "      <td>0.00000</td>\n",
       "      <td>0.00000</td>\n",
       "      <td>7.80000</td>\n",
       "    </tr>\n",
       "    <tr>\n",
       "      <th>50%</th>\n",
       "      <td>1.00000</td>\n",
       "      <td>1.00000</td>\n",
       "      <td>596.00000</td>\n",
       "      <td>1.70000</td>\n",
       "      <td>-73.97819</td>\n",
       "      <td>40.75834</td>\n",
       "      <td>-73.97649</td>\n",
       "      <td>40.75864</td>\n",
       "      <td>9.00000</td>\n",
       "      <td>0.00000</td>\n",
       "      <td>0.50000</td>\n",
       "      <td>0.50000</td>\n",
       "      <td>0.00000</td>\n",
       "      <td>10.50000</td>\n",
       "    </tr>\n",
       "    <tr>\n",
       "      <th>75%</th>\n",
       "      <td>1.00000</td>\n",
       "      <td>2.00000</td>\n",
       "      <td>926.00000</td>\n",
       "      <td>3.00000</td>\n",
       "      <td>-73.96359</td>\n",
       "      <td>40.77137</td>\n",
       "      <td>-73.96072</td>\n",
       "      <td>40.77279</td>\n",
       "      <td>13.50000</td>\n",
       "      <td>0.50000</td>\n",
       "      <td>0.50000</td>\n",
       "      <td>1.95000</td>\n",
       "      <td>0.00000</td>\n",
       "      <td>15.50000</td>\n",
       "    </tr>\n",
       "    <tr>\n",
       "      <th>max</th>\n",
       "      <td>210.00000</td>\n",
       "      <td>6.00000</td>\n",
       "      <td>10800.00000</td>\n",
       "      <td>100.00000</td>\n",
       "      <td>-73.00239</td>\n",
       "      <td>40.99770</td>\n",
       "      <td>-73.00239</td>\n",
       "      <td>40.99977</td>\n",
       "      <td>500.00000</td>\n",
       "      <td>15.00000</td>\n",
       "      <td>0.50000</td>\n",
       "      <td>200.00000</td>\n",
       "      <td>20.00000</td>\n",
       "      <td>500.00000</td>\n",
       "    </tr>\n",
       "  </tbody>\n",
       "</table>\n",
       "</div>"
      ],
      "text/plain": [
       "           rate_code  passenger_count  trip_time_in_secs  trip_distance  \\\n",
       "count 11308202.00000   11308202.00000     11308202.00000 11308202.00000   \n",
       "mean         1.02284          1.71049          725.51497        2.79641   \n",
       "std          0.24769          1.39063          547.45298        3.36356   \n",
       "min          0.00000          1.00000            1.00000        0.01000   \n",
       "25%          1.00000          1.00000          360.00000        1.00000   \n",
       "50%          1.00000          1.00000          596.00000        1.70000   \n",
       "75%          1.00000          2.00000          926.00000        3.00000   \n",
       "max        210.00000          6.00000        10800.00000      100.00000   \n",
       "\n",
       "       pickup_longitude  pickup_latitude  dropoff_longitude  dropoff_latitude  \\\n",
       "count    11308202.00000   11308202.00000     11308202.00000    11308202.00000   \n",
       "mean          -73.96955         40.75549          -73.96849          40.75647   \n",
       "std             0.03464          0.02691            0.03229           0.03016   \n",
       "min           -73.99999         40.03132          -73.99999          40.01667   \n",
       "25%           -73.98744         40.74380          -73.98608          40.74379   \n",
       "50%           -73.97819         40.75834          -73.97649          40.75864   \n",
       "75%           -73.96359         40.77137          -73.96072          40.77279   \n",
       "max           -73.00239         40.99770          -73.00239          40.99977   \n",
       "\n",
       "         fare_amount      surcharge        mta_tax     tip_amount  \\\n",
       "count 11308202.00000 11308202.00000 11308202.00000 11308202.00000   \n",
       "mean        11.83751        0.32469        0.49979        1.26634   \n",
       "std          9.39296        0.37000        0.01016        2.01152   \n",
       "min          2.50000        0.00000        0.00000        0.00000   \n",
       "25%          6.50000        0.00000        0.50000        0.00000   \n",
       "50%          9.00000        0.00000        0.50000        0.50000   \n",
       "75%         13.50000        0.50000        0.50000        1.95000   \n",
       "max        500.00000       15.00000        0.50000      200.00000   \n",
       "\n",
       "        tolls_amount   total_amount  \n",
       "count 11308202.00000 11308202.00000  \n",
       "mean         0.25703       14.18536  \n",
       "std          1.14764       11.30906  \n",
       "min          0.00000        2.50000  \n",
       "25%          0.00000        7.80000  \n",
       "50%          0.00000       10.50000  \n",
       "75%          0.00000       15.50000  \n",
       "max         20.00000      500.00000  "
      ]
     },
     "execution_count": 23,
     "metadata": {},
     "output_type": "execute_result"
    }
   ],
   "source": [
    "trips.describe()"
   ]
  },
  {
   "cell_type": "markdown",
   "metadata": {},
   "source": [
    "# a.\tWhat is the distribution of number of passengers per trip?"
   ]
  },
  {
   "cell_type": "code",
   "execution_count": 24,
   "metadata": {},
   "outputs": [
    {
     "data": {
      "text/plain": [
       "1    8029896\n",
       "2    1475300\n",
       "3     449672\n",
       "4     216097\n",
       "5     674800\n",
       "6     462437\n",
       "Name: passenger_count, dtype: int64"
      ]
     },
     "execution_count": 24,
     "metadata": {},
     "output_type": "execute_result"
    }
   ],
   "source": [
    "trips.passenger_count.value_counts().sort_index()"
   ]
  },
  {
   "cell_type": "code",
   "execution_count": 25,
   "metadata": {},
   "outputs": [
    {
     "data": {
      "image/png": "[encoded data removed]",
      "text/plain": [
       "<Figure size 360x360 with 1 Axes>"
      ]
     },
     "metadata": {
      "needs_background": "light"
     },
     "output_type": "display_data"
    }
   ],
   "source": [
    "fig, ax = plt.subplots(figsize=(5,5))\n",
    "ax = sns.countplot(x='passenger_count', data = trips, ax=ax)\n",
    "ax.set_title('Single passenger makes up more than the rest of others combined', fontsize=14)\n",
    "ax.set_xlabel('Number of Passengers', fontsize=14)\n",
    "ax.set_ylabel('Number of Trips', fontsize=14)\n",
    "plt.ticklabel_format(style='plain', axis='y')\n",
    "plt.show()"
   ]
  },
  {
   "cell_type": "markdown",
   "metadata": {},
   "source": [
    "Single passenger trips makes up more than the rest of them combined."
   ]
  },
  {
   "cell_type": "markdown",
   "metadata": {},
   "source": [
    "# b.\tWhat is the distribution of payment_type?"
   ]
  },
  {
   "cell_type": "code",
   "execution_count": 26,
   "metadata": {},
   "outputs": [
    {
     "data": {
      "text/plain": [
       "CRD    5869656\n",
       "CSH    5406767\n",
       "NOC      20696\n",
       "DIS       7686\n",
       "UNK       3397\n",
       "Name: payment_type, dtype: int64"
      ]
     },
     "execution_count": 26,
     "metadata": {},
     "output_type": "execute_result"
    }
   ],
   "source": [
    "trips.payment_type.value_counts()"
   ]
  },
  {
   "cell_type": "markdown",
   "metadata": {},
   "source": [
    "Expanding abbreviations, we get \n",
    "\n",
    "CRD: Credit Card,\n",
    "CSH: Cash,\n",
    "NOC: No charge,\n",
    "DIS: Dispute,\n",
    "UNK: Unknown\n",
    "\n",
    "Since NOC, DIS and UNK do not give any information about type of payment, we will limit our analysis to card and cash only."
   ]
  },
  {
   "cell_type": "code",
   "execution_count": 27,
   "metadata": {},
   "outputs": [
    {
     "data": {
      "text/html": [
       "<div>\n",
       "<style scoped>\n",
       "    .dataframe tbody tr th:only-of-type {\n",
       "        vertical-align: middle;\n",
       "    }\n",
       "\n",
       "    .dataframe tbody tr th {\n",
       "        vertical-align: top;\n",
       "    }\n",
       "\n",
       "    .dataframe thead th {\n",
       "        text-align: right;\n",
       "    }\n",
       "</style>\n",
       "<table border=\"1\" class=\"dataframe\">\n",
       "  <thead>\n",
       "    <tr style=\"text-align: right;\">\n",
       "      <th></th>\n",
       "      <th>percent</th>\n",
       "    </tr>\n",
       "    <tr>\n",
       "      <th>payment_type</th>\n",
       "      <th></th>\n",
       "    </tr>\n",
       "  </thead>\n",
       "  <tbody>\n",
       "    <tr>\n",
       "      <th>Credit Card</th>\n",
       "      <td>52.10000</td>\n",
       "    </tr>\n",
       "    <tr>\n",
       "      <th>Cash</th>\n",
       "      <td>47.90000</td>\n",
       "    </tr>\n",
       "  </tbody>\n",
       "</table>\n",
       "</div>"
      ],
      "text/plain": [
       "              percent\n",
       "payment_type         \n",
       "Credit Card  52.10000\n",
       "Cash         47.90000"
      ]
     },
     "execution_count": 27,
     "metadata": {},
     "output_type": "execute_result"
    }
   ],
   "source": [
    "payments = trips.payment_type.value_counts().reset_index()[:2]\n",
    "payments = payments.rename(columns={'index':'payment_type','payment_type':'count'})\n",
    "payments['percent'] = round((payments['count'] / payments['count'].sum()) * 100 , 1)\n",
    "payments.drop(columns=['count'],inplace=True)\n",
    "payments = payments.replace('CRD','Credit Card')\n",
    "payments = payments.replace('CSH','Cash')\n",
    "payments.set_index('payment_type',inplace=True)\n",
    "payments"
   ]
  },
  {
   "cell_type": "code",
   "execution_count": 28,
   "metadata": {},
   "outputs": [
    {
     "data": {
      "image/png": "[encoded data removed]",
      "text/plain": [
       "<Figure size 360x360 with 1 Axes>"
      ]
     },
     "metadata": {
      "needs_background": "light"
     },
     "output_type": "display_data"
    }
   ],
   "source": [
    "fig, ax = plt.subplots(figsize=(5,5))\n",
    "ax = sns.barplot(x=payments.index, y ='percent' , data = payments)\n",
    "ax.set_title('Both cash and card are nearly equaly used', fontsize=14)\n",
    "ax.set_xlabel('')\n",
    "ax.set_ylabel('Percentage of Trips', fontsize=14)\n",
    "plt.show()"
   ]
  },
  {
   "cell_type": "markdown",
   "metadata": {},
   "source": [
    "Seems like both the payment types are equally used in the data."
   ]
  },
  {
   "cell_type": "markdown",
   "metadata": {},
   "source": [
    "# c.\tWhat is the distribution of fare amount?"
   ]
  },
  {
   "cell_type": "code",
   "execution_count": 29,
   "metadata": {},
   "outputs": [
    {
     "data": {
      "text/plain": [
       "count   11308202.00000\n",
       "mean          11.83751\n",
       "std            9.39296\n",
       "min            2.50000\n",
       "25%            6.50000\n",
       "50%            9.00000\n",
       "75%           13.50000\n",
       "max          500.00000\n",
       "Name: fare_amount, dtype: float64"
      ]
     },
     "execution_count": 29,
     "metadata": {},
     "output_type": "execute_result"
    }
   ],
   "source": [
    "trips.fare_amount.describe()"
   ]
  },
  {
   "cell_type": "code",
   "execution_count": 30,
   "metadata": {},
   "outputs": [
    {
     "data": {
      "image/png": "[encoded data removed]",
      "text/plain": [
       "<Figure size 432x288 with 1 Axes>"
      ]
     },
     "metadata": {
      "needs_background": "light"
     },
     "output_type": "display_data"
    }
   ],
   "source": [
    "sns.boxplot(x=trips.fare_amount)\n",
    "plt.show()"
   ]
  },
  {
   "cell_type": "code",
   "execution_count": 31,
   "metadata": {},
   "outputs": [],
   "source": [
    "# Remove upper 1% of points\n",
    "p_upper = np.percentile(trips.fare_amount, 99.0)\n",
    "p_upper\n",
    "\n",
    "amount = trips[trips.fare_amount<p_upper]"
   ]
  },
  {
   "cell_type": "code",
   "execution_count": 32,
   "metadata": {},
   "outputs": [
    {
     "data": {
      "image/png": "[encoded data removed]",
      "text/plain": [
       "<Figure size 720x288 with 2 Axes>"
      ]
     },
     "metadata": {
      "needs_background": "light"
     },
     "output_type": "display_data"
    }
   ],
   "source": [
    "(fig, ax) = plt.subplots(1,2, figsize=(10,4))\n",
    "ax[0] = sns.distplot(trips.fare_amount, ax=ax[0], kde=False)\n",
    "# Removed upper 1% fare_amounts \n",
    "ax[1] = sns.distplot(amount.fare_amount, ax=ax[1], kde=False)\n",
    "ax[0].set_xlabel('Fare Amount')\n",
    "ax[1].set_xlabel('Fare Amount - Handled Outliers')\n",
    "fig.suptitle('Distribution of Fare Amount')\n",
    "plt.show()"
   ]
  },
  {
   "cell_type": "markdown",
   "metadata": {},
   "source": [
    "We get a better looking distribution after handling the outliers. Even then, it looks right skewed."
   ]
  },
  {
   "cell_type": "markdown",
   "metadata": {},
   "source": [
    "# d.\tWhat is the distribution of tip amount?"
   ]
  },
  {
   "cell_type": "code",
   "execution_count": 33,
   "metadata": {},
   "outputs": [
    {
     "data": {
      "text/plain": [
       "count   11308202.00000\n",
       "mean           1.26634\n",
       "std            2.01152\n",
       "min            0.00000\n",
       "25%            0.00000\n",
       "50%            0.50000\n",
       "75%            1.95000\n",
       "max          200.00000\n",
       "Name: tip_amount, dtype: float64"
      ]
     },
     "execution_count": 33,
     "metadata": {},
     "output_type": "execute_result"
    }
   ],
   "source": [
    "trips.tip_amount.describe()"
   ]
  },
  {
   "cell_type": "code",
   "execution_count": 34,
   "metadata": {},
   "outputs": [
    {
     "data": {
      "image/png": "[encoded data removed]",
      "text/plain": [
       "<Figure size 432x288 with 1 Axes>"
      ]
     },
     "metadata": {
      "needs_background": "light"
     },
     "output_type": "display_data"
    }
   ],
   "source": [
    "sns.boxplot(x=trips.tip_amount)\n",
    "plt.show()"
   ]
  },
  {
   "cell_type": "code",
   "execution_count": 35,
   "metadata": {},
   "outputs": [],
   "source": [
    "# Remove upper 1% of points\n",
    "p_upper = np.percentile(trips.tip_amount, 99.0)\n",
    "p_upper\n",
    "\n",
    "amount = trips[trips.tip_amount<p_upper]"
   ]
  },
  {
   "cell_type": "code",
   "execution_count": 36,
   "metadata": {},
   "outputs": [
    {
     "data": {
      "image/png": "[encoded data removed]",
      "text/plain": [
       "<Figure size 720x288 with 2 Axes>"
      ]
     },
     "metadata": {
      "needs_background": "light"
     },
     "output_type": "display_data"
    }
   ],
   "source": [
    "(fig, ax) = plt.subplots(1,2, figsize=(10,4))\n",
    "ax[0] = sns.distplot(trips.tip_amount, ax=ax[0], kde=False)\n",
    "# Removed upper 1% tip_amounts \n",
    "ax[1] = sns.distplot(amount.tip_amount, ax=ax[1], kde=False)\n",
    "ax[0].set_xlabel('Tip Amount')\n",
    "ax[1].set_xlabel('Tip Amount - Handled Outliers')\n",
    "fig.suptitle('Distribution of Tip Amount')\n",
    "plt.show()"
   ]
  },
  {
   "cell_type": "markdown",
   "metadata": {},
   "source": [
    "There are lot of trips with tip amount =0 which makes sense as tips are upto a person and some of them might not even be reported as they could be given in cash."
   ]
  },
  {
   "cell_type": "markdown",
   "metadata": {},
   "source": [
    "# e.\tWhat is the distribution of total amount?"
   ]
  },
  {
   "cell_type": "code",
   "execution_count": 37,
   "metadata": {},
   "outputs": [
    {
     "data": {
      "text/plain": [
       "count   11308202.00000\n",
       "mean          14.18536\n",
       "std           11.30906\n",
       "min            2.50000\n",
       "25%            7.80000\n",
       "50%           10.50000\n",
       "75%           15.50000\n",
       "max          500.00000\n",
       "Name: total_amount, dtype: float64"
      ]
     },
     "execution_count": 37,
     "metadata": {},
     "output_type": "execute_result"
    }
   ],
   "source": [
    "trips.total_amount.describe()"
   ]
  },
  {
   "cell_type": "code",
   "execution_count": 38,
   "metadata": {},
   "outputs": [
    {
     "data": {
      "image/png": "[encoded data removed]",
      "text/plain": [
       "<Figure size 432x288 with 1 Axes>"
      ]
     },
     "metadata": {
      "needs_background": "light"
     },
     "output_type": "display_data"
    }
   ],
   "source": [
    "sns.boxplot(x=trips.total_amount)\n",
    "plt.show()"
   ]
  },
  {
   "cell_type": "code",
   "execution_count": 39,
   "metadata": {},
   "outputs": [],
   "source": [
    "# Remove upper 1% of points\n",
    "p_upper = np.percentile(trips.total_amount, 99.0)\n",
    "p_upper\n",
    "\n",
    "amount = trips[trips.total_amount<p_upper]"
   ]
  },
  {
   "cell_type": "code",
   "execution_count": 40,
   "metadata": {},
   "outputs": [
    {
     "data": {
      "image/png": "[encoded data removed]",
      "text/plain": [
       "<Figure size 720x288 with 2 Axes>"
      ]
     },
     "metadata": {
      "needs_background": "light"
     },
     "output_type": "display_data"
    }
   ],
   "source": [
    "(fig, ax) = plt.subplots(1,2, figsize=(10,4))\n",
    "ax[0] = sns.distplot(trips.total_amount, ax=ax[0], kde=False)\n",
    "# Removed upper 1% total_amounts \n",
    "ax[1] = sns.distplot(amount.total_amount, ax=ax[1], kde=False)\n",
    "ax[0].set_xlabel('Total Amount')\n",
    "ax[1].set_xlabel('Total Amount - Handled Outliers')\n",
    "fig.suptitle('Distribution of Total Amount')\n",
    "plt.show()"
   ]
  },
  {
   "cell_type": "markdown",
   "metadata": {},
   "source": [
    "# f. What are top 5 busiest hours of the day?\n"
   ]
  },
  {
   "cell_type": "code",
   "execution_count": 41,
   "metadata": {},
   "outputs": [
    {
     "data": {
      "text/html": [
       "<div>\n",
       "<style scoped>\n",
       "    .dataframe tbody tr th:only-of-type {\n",
       "        vertical-align: middle;\n",
       "    }\n",
       "\n",
       "    .dataframe tbody tr th {\n",
       "        vertical-align: top;\n",
       "    }\n",
       "\n",
       "    .dataframe thead th {\n",
       "        text-align: right;\n",
       "    }\n",
       "</style>\n",
       "<table border=\"1\" class=\"dataframe\">\n",
       "  <thead>\n",
       "    <tr style=\"text-align: right;\">\n",
       "      <th></th>\n",
       "      <th>pickup_datetime</th>\n",
       "      <th>0</th>\n",
       "    </tr>\n",
       "  </thead>\n",
       "  <tbody>\n",
       "    <tr>\n",
       "      <th>0</th>\n",
       "      <td>19</td>\n",
       "      <td>707049</td>\n",
       "    </tr>\n",
       "    <tr>\n",
       "      <th>1</th>\n",
       "      <td>18</td>\n",
       "      <td>697247</td>\n",
       "    </tr>\n",
       "    <tr>\n",
       "      <th>2</th>\n",
       "      <td>20</td>\n",
       "      <td>670283</td>\n",
       "    </tr>\n",
       "    <tr>\n",
       "      <th>3</th>\n",
       "      <td>21</td>\n",
       "      <td>645135</td>\n",
       "    </tr>\n",
       "    <tr>\n",
       "      <th>4</th>\n",
       "      <td>22</td>\n",
       "      <td>626320</td>\n",
       "    </tr>\n",
       "  </tbody>\n",
       "</table>\n",
       "</div>"
      ],
      "text/plain": [
       "   pickup_datetime       0\n",
       "0               19  707049\n",
       "1               18  697247\n",
       "2               20  670283\n",
       "3               21  645135\n",
       "4               22  626320"
      ]
     },
     "execution_count": 41,
     "metadata": {},
     "output_type": "execute_result"
    }
   ],
   "source": [
    "# Use hour of the pickup_datetime to assign a trip to that particular hour\n",
    "trip_hours = trips.groupby(trips.pickup_datetime.dt.hour).size().sort_values(ascending=False)[:5].reset_index()\n",
    "trip_hours"
   ]
  },
  {
   "cell_type": "code",
   "execution_count": 42,
   "metadata": {},
   "outputs": [
    {
     "data": {
      "text/html": [
       "<div>\n",
       "<style scoped>\n",
       "    .dataframe tbody tr th:only-of-type {\n",
       "        vertical-align: middle;\n",
       "    }\n",
       "\n",
       "    .dataframe tbody tr th {\n",
       "        vertical-align: top;\n",
       "    }\n",
       "\n",
       "    .dataframe thead th {\n",
       "        text-align: right;\n",
       "    }\n",
       "</style>\n",
       "<table border=\"1\" class=\"dataframe\">\n",
       "  <thead>\n",
       "    <tr style=\"text-align: right;\">\n",
       "      <th></th>\n",
       "      <th>count</th>\n",
       "    </tr>\n",
       "    <tr>\n",
       "      <th>time_of_day</th>\n",
       "      <th></th>\n",
       "    </tr>\n",
       "  </thead>\n",
       "  <tbody>\n",
       "    <tr>\n",
       "      <th>6 PM</th>\n",
       "      <td>697247</td>\n",
       "    </tr>\n",
       "    <tr>\n",
       "      <th>7 PM</th>\n",
       "      <td>707049</td>\n",
       "    </tr>\n",
       "    <tr>\n",
       "      <th>8 PM</th>\n",
       "      <td>670283</td>\n",
       "    </tr>\n",
       "    <tr>\n",
       "      <th>9 PM</th>\n",
       "      <td>645135</td>\n",
       "    </tr>\n",
       "    <tr>\n",
       "      <th>10 PM</th>\n",
       "      <td>626320</td>\n",
       "    </tr>\n",
       "  </tbody>\n",
       "</table>\n",
       "</div>"
      ],
      "text/plain": [
       "              count\n",
       "time_of_day        \n",
       "6 PM         697247\n",
       "7 PM         707049\n",
       "8 PM         670283\n",
       "9 PM         645135\n",
       "10 PM        626320"
      ]
     },
     "execution_count": 42,
     "metadata": {},
     "output_type": "execute_result"
    }
   ],
   "source": [
    "trip_hours.rename(columns = {'pickup_datetime':'time_of_day',0:'count'}, inplace=True)\n",
    "trip_hours = trip_hours.sort_values(by='time_of_day')\n",
    "trip_hours.replace({'time_of_day':{18:'6 PM',19:'7 PM',20:'8 PM',21:'9 PM',22:'10 PM'}},inplace=True)\n",
    "trip_hours.set_index('time_of_day',inplace=True)\n",
    "\n",
    "trip_hours"
   ]
  },
  {
   "cell_type": "markdown",
   "metadata": {},
   "source": [
    "Hence, 6-11 pm are the 5 busiest hours of the day."
   ]
  },
  {
   "cell_type": "code",
   "execution_count": 43,
   "metadata": {},
   "outputs": [
    {
     "data": {
      "image/png": "[encoded data removed]",
      "text/plain": [
       "<Figure size 360x360 with 1 Axes>"
      ]
     },
     "metadata": {
      "needs_background": "light"
     },
     "output_type": "display_data"
    }
   ],
   "source": [
    "(fig, ax) = plt.subplots(figsize=(5,5))\n",
    "ax = sns.barplot(x=trip_hours.index,y='count', data=trip_hours)\n",
    "ax.set_title('Evening hours are the busiest', fontsize=14)\n",
    "ax.set_xlabel('')\n",
    "ax.set_ylabel('Number of Trips', fontsize=14)\n",
    "\n",
    "plt.show()"
   ]
  },
  {
   "cell_type": "markdown",
   "metadata": {},
   "source": [
    "# g. What are the top 10 busiest locations of the city?"
   ]
  },
  {
   "cell_type": "code",
   "execution_count": 44,
   "metadata": {},
   "outputs": [
    {
     "data": {
      "text/html": [
       "<div>\n",
       "<style scoped>\n",
       "    .dataframe tbody tr th:only-of-type {\n",
       "        vertical-align: middle;\n",
       "    }\n",
       "\n",
       "    .dataframe tbody tr th {\n",
       "        vertical-align: top;\n",
       "    }\n",
       "\n",
       "    .dataframe thead th {\n",
       "        text-align: right;\n",
       "    }\n",
       "</style>\n",
       "<table border=\"1\" class=\"dataframe\">\n",
       "  <thead>\n",
       "    <tr style=\"text-align: right;\">\n",
       "      <th></th>\n",
       "      <th>pickup_latitude</th>\n",
       "      <th>pickup_longitude</th>\n",
       "      <th>dropoff_latitude</th>\n",
       "      <th>dropoff_longitude</th>\n",
       "      <th>pickup_geocode</th>\n",
       "      <th>dropoff_geocode</th>\n",
       "    </tr>\n",
       "  </thead>\n",
       "  <tbody>\n",
       "    <tr>\n",
       "      <th>0</th>\n",
       "      <td>40.77000</td>\n",
       "      <td>-73.96000</td>\n",
       "      <td>40.79000</td>\n",
       "      <td>-73.98000</td>\n",
       "      <td>40.77, -73.96</td>\n",
       "      <td>40.79, -73.98</td>\n",
       "    </tr>\n",
       "    <tr>\n",
       "      <th>1</th>\n",
       "      <td>40.76000</td>\n",
       "      <td>-73.98000</td>\n",
       "      <td>40.78000</td>\n",
       "      <td>-73.96000</td>\n",
       "      <td>40.76, -73.98</td>\n",
       "      <td>40.78, -73.96</td>\n",
       "    </tr>\n",
       "    <tr>\n",
       "      <th>2</th>\n",
       "      <td>40.75000</td>\n",
       "      <td>-73.99000</td>\n",
       "      <td>40.75000</td>\n",
       "      <td>-73.99000</td>\n",
       "      <td>40.75, -73.99</td>\n",
       "      <td>40.75, -73.99</td>\n",
       "    </tr>\n",
       "    <tr>\n",
       "      <th>3</th>\n",
       "      <td>40.76000</td>\n",
       "      <td>-73.99000</td>\n",
       "      <td>40.75000</td>\n",
       "      <td>-73.98000</td>\n",
       "      <td>40.76, -73.99</td>\n",
       "      <td>40.75, -73.98</td>\n",
       "    </tr>\n",
       "    <tr>\n",
       "      <th>4</th>\n",
       "      <td>40.76000</td>\n",
       "      <td>-73.98000</td>\n",
       "      <td>40.76000</td>\n",
       "      <td>-73.98000</td>\n",
       "      <td>40.76, -73.98</td>\n",
       "      <td>40.76, -73.98</td>\n",
       "    </tr>\n",
       "  </tbody>\n",
       "</table>\n",
       "</div>"
      ],
      "text/plain": [
       "   pickup_latitude  pickup_longitude  dropoff_latitude  dropoff_longitude  \\\n",
       "0         40.77000         -73.96000          40.79000          -73.98000   \n",
       "1         40.76000         -73.98000          40.78000          -73.96000   \n",
       "2         40.75000         -73.99000          40.75000          -73.99000   \n",
       "3         40.76000         -73.99000          40.75000          -73.98000   \n",
       "4         40.76000         -73.98000          40.76000          -73.98000   \n",
       "\n",
       "  pickup_geocode dropoff_geocode  \n",
       "0  40.77, -73.96   40.79, -73.98  \n",
       "1  40.76, -73.98   40.78, -73.96  \n",
       "2  40.75, -73.99   40.75, -73.99  \n",
       "3  40.76, -73.99   40.75, -73.98  \n",
       "4  40.76, -73.98   40.76, -73.98  "
      ]
     },
     "execution_count": 44,
     "metadata": {},
     "output_type": "execute_result"
    }
   ],
   "source": [
    "# Create a subset of dataframe for anaylsis\n",
    "geo_data = trips[['pickup_latitude','pickup_longitude','dropoff_latitude','dropoff_longitude']]\n",
    "\n",
    "# Round off lat and long to two decimal places to get places at a more reasonable scale\n",
    "geo_data['pickup_latitude'] = geo_data.pickup_latitude.round(2)\n",
    "geo_data['pickup_longitude'] = geo_data.pickup_longitude.round(2)\n",
    "geo_data['dropoff_latitude'] = geo_data.dropoff_latitude.round(2)\n",
    "geo_data['dropoff_longitude'] = geo_data.dropoff_longitude.round(2)\n",
    "\n",
    "# Create lat,long pairs for pickup and dropoff\n",
    "geo_data['pickup_geocode'] = geo_data.pickup_latitude.astype(str) + ', ' + geo_data.pickup_longitude.astype(str)\n",
    "geo_data['dropoff_geocode'] = geo_data.dropoff_latitude.astype(str) + ', ' + geo_data.dropoff_longitude.astype(str)\n",
    "\n",
    "geo_data.head()"
   ]
  },
  {
   "cell_type": "code",
   "execution_count": 45,
   "metadata": {},
   "outputs": [
    {
     "data": {
      "text/html": [
       "<div>\n",
       "<style scoped>\n",
       "    .dataframe tbody tr th:only-of-type {\n",
       "        vertical-align: middle;\n",
       "    }\n",
       "\n",
       "    .dataframe tbody tr th {\n",
       "        vertical-align: top;\n",
       "    }\n",
       "\n",
       "    .dataframe thead th {\n",
       "        text-align: right;\n",
       "    }\n",
       "</style>\n",
       "<table border=\"1\" class=\"dataframe\">\n",
       "  <thead>\n",
       "    <tr style=\"text-align: right;\">\n",
       "      <th></th>\n",
       "      <th>index</th>\n",
       "      <th>pickup_geocode</th>\n",
       "    </tr>\n",
       "  </thead>\n",
       "  <tbody>\n",
       "    <tr>\n",
       "      <th>0</th>\n",
       "      <td>40.76, -73.97</td>\n",
       "      <td>842844</td>\n",
       "    </tr>\n",
       "    <tr>\n",
       "      <th>1</th>\n",
       "      <td>40.75, -73.99</td>\n",
       "      <td>695346</td>\n",
       "    </tr>\n",
       "    <tr>\n",
       "      <th>2</th>\n",
       "      <td>40.76, -73.98</td>\n",
       "      <td>671744</td>\n",
       "    </tr>\n",
       "    <tr>\n",
       "      <th>3</th>\n",
       "      <td>40.75, -73.98</td>\n",
       "      <td>656819</td>\n",
       "    </tr>\n",
       "    <tr>\n",
       "      <th>4</th>\n",
       "      <td>40.74, -73.99</td>\n",
       "      <td>560206</td>\n",
       "    </tr>\n",
       "    <tr>\n",
       "      <th>...</th>\n",
       "      <td>...</td>\n",
       "      <td>...</td>\n",
       "    </tr>\n",
       "    <tr>\n",
       "      <th>1482</th>\n",
       "      <td>40.61, -73.66</td>\n",
       "      <td>1</td>\n",
       "    </tr>\n",
       "    <tr>\n",
       "      <th>1483</th>\n",
       "      <td>40.95, -73.82</td>\n",
       "      <td>1</td>\n",
       "    </tr>\n",
       "    <tr>\n",
       "      <th>1484</th>\n",
       "      <td>40.78, -73.58</td>\n",
       "      <td>1</td>\n",
       "    </tr>\n",
       "    <tr>\n",
       "      <th>1485</th>\n",
       "      <td>40.96, -73.69</td>\n",
       "      <td>1</td>\n",
       "    </tr>\n",
       "    <tr>\n",
       "      <th>1486</th>\n",
       "      <td>40.63, -73.72</td>\n",
       "      <td>1</td>\n",
       "    </tr>\n",
       "  </tbody>\n",
       "</table>\n",
       "<p>1487 rows × 2 columns</p>\n",
       "</div>"
      ],
      "text/plain": [
       "              index  pickup_geocode\n",
       "0     40.76, -73.97          842844\n",
       "1     40.75, -73.99          695346\n",
       "2     40.76, -73.98          671744\n",
       "3     40.75, -73.98          656819\n",
       "4     40.74, -73.99          560206\n",
       "...             ...             ...\n",
       "1482  40.61, -73.66               1\n",
       "1483  40.95, -73.82               1\n",
       "1484  40.78, -73.58               1\n",
       "1485  40.96, -73.69               1\n",
       "1486  40.63, -73.72               1\n",
       "\n",
       "[1487 rows x 2 columns]"
      ]
     },
     "execution_count": 45,
     "metadata": {},
     "output_type": "execute_result"
    }
   ],
   "source": [
    "pickup = geo_data.pickup_geocode.value_counts().reset_index()\n",
    "pickup"
   ]
  },
  {
   "cell_type": "code",
   "execution_count": 46,
   "metadata": {},
   "outputs": [
    {
     "data": {
      "text/html": [
       "<div>\n",
       "<style scoped>\n",
       "    .dataframe tbody tr th:only-of-type {\n",
       "        vertical-align: middle;\n",
       "    }\n",
       "\n",
       "    .dataframe tbody tr th {\n",
       "        vertical-align: top;\n",
       "    }\n",
       "\n",
       "    .dataframe thead th {\n",
       "        text-align: right;\n",
       "    }\n",
       "</style>\n",
       "<table border=\"1\" class=\"dataframe\">\n",
       "  <thead>\n",
       "    <tr style=\"text-align: right;\">\n",
       "      <th></th>\n",
       "      <th>index</th>\n",
       "      <th>dropoff_geocode</th>\n",
       "    </tr>\n",
       "  </thead>\n",
       "  <tbody>\n",
       "    <tr>\n",
       "      <th>0</th>\n",
       "      <td>40.76, -73.97</td>\n",
       "      <td>773500</td>\n",
       "    </tr>\n",
       "    <tr>\n",
       "      <th>1</th>\n",
       "      <td>40.76, -73.98</td>\n",
       "      <td>733027</td>\n",
       "    </tr>\n",
       "    <tr>\n",
       "      <th>2</th>\n",
       "      <td>40.75, -73.98</td>\n",
       "      <td>652210</td>\n",
       "    </tr>\n",
       "    <tr>\n",
       "      <th>3</th>\n",
       "      <td>40.75, -73.99</td>\n",
       "      <td>649942</td>\n",
       "    </tr>\n",
       "    <tr>\n",
       "      <th>4</th>\n",
       "      <td>40.74, -73.99</td>\n",
       "      <td>485188</td>\n",
       "    </tr>\n",
       "    <tr>\n",
       "      <th>...</th>\n",
       "      <td>...</td>\n",
       "      <td>...</td>\n",
       "    </tr>\n",
       "    <tr>\n",
       "      <th>2113</th>\n",
       "      <td>40.77, -73.48</td>\n",
       "      <td>1</td>\n",
       "    </tr>\n",
       "    <tr>\n",
       "      <th>2114</th>\n",
       "      <td>40.33, -73.71</td>\n",
       "      <td>1</td>\n",
       "    </tr>\n",
       "    <tr>\n",
       "      <th>2115</th>\n",
       "      <td>40.26, -73.89</td>\n",
       "      <td>1</td>\n",
       "    </tr>\n",
       "    <tr>\n",
       "      <th>2116</th>\n",
       "      <td>40.87, -73.64</td>\n",
       "      <td>1</td>\n",
       "    </tr>\n",
       "    <tr>\n",
       "      <th>2117</th>\n",
       "      <td>40.56, -73.64</td>\n",
       "      <td>1</td>\n",
       "    </tr>\n",
       "  </tbody>\n",
       "</table>\n",
       "<p>2118 rows × 2 columns</p>\n",
       "</div>"
      ],
      "text/plain": [
       "              index  dropoff_geocode\n",
       "0     40.76, -73.97           773500\n",
       "1     40.76, -73.98           733027\n",
       "2     40.75, -73.98           652210\n",
       "3     40.75, -73.99           649942\n",
       "4     40.74, -73.99           485188\n",
       "...             ...              ...\n",
       "2113  40.77, -73.48                1\n",
       "2114  40.33, -73.71                1\n",
       "2115  40.26, -73.89                1\n",
       "2116  40.87, -73.64                1\n",
       "2117  40.56, -73.64                1\n",
       "\n",
       "[2118 rows x 2 columns]"
      ]
     },
     "execution_count": 46,
     "metadata": {},
     "output_type": "execute_result"
    }
   ],
   "source": [
    "dropoff = geo_data.dropoff_geocode.value_counts().reset_index()\n",
    "dropoff"
   ]
  },
  {
   "cell_type": "code",
   "execution_count": 47,
   "metadata": {},
   "outputs": [],
   "source": [
    "geolocator = Nominatim(user_agent=\"cba\")\n",
    "\n",
    "def get_address(geocode):\n",
    "    '''\n",
    "        Given co-ordinates, gets the address using geolocator\n",
    "    '''\n",
    "    location = geolocator.reverse(geocode)\n",
    "    addr = location.address\n",
    "    return str(addr)"
   ]
  },
  {
   "cell_type": "code",
   "execution_count": 48,
   "metadata": {},
   "outputs": [
    {
     "data": {
      "text/html": [
       "<div>\n",
       "<style scoped>\n",
       "    .dataframe tbody tr th:only-of-type {\n",
       "        vertical-align: middle;\n",
       "    }\n",
       "\n",
       "    .dataframe tbody tr th {\n",
       "        vertical-align: top;\n",
       "    }\n",
       "\n",
       "    .dataframe thead th {\n",
       "        text-align: right;\n",
       "    }\n",
       "</style>\n",
       "<table border=\"1\" class=\"dataframe\">\n",
       "  <thead>\n",
       "    <tr style=\"text-align: right;\">\n",
       "      <th></th>\n",
       "      <th>num_trips</th>\n",
       "      <th>address</th>\n",
       "    </tr>\n",
       "    <tr>\n",
       "      <th>geocode</th>\n",
       "      <th></th>\n",
       "      <th></th>\n",
       "    </tr>\n",
       "  </thead>\n",
       "  <tbody>\n",
       "    <tr>\n",
       "      <th>40.76, -73.97</th>\n",
       "      <td>1616344</td>\n",
       "      <td>664, Lexington Avenue, Manhattan Community Board 5, Manhattan, New York County, New York, 10022, United States</td>\n",
       "    </tr>\n",
       "    <tr>\n",
       "      <th>40.76, -73.98</th>\n",
       "      <td>1404771</td>\n",
       "      <td>Rockefeller Center, 45, Rockefeller Plaza, Midtown, Manhattan Community Board 5, Manhattan, New York County, New York, 10111, United States</td>\n",
       "    </tr>\n",
       "    <tr>\n",
       "      <th>40.75, -73.99</th>\n",
       "      <td>1345288</td>\n",
       "      <td>137, West 33rd Street, Manhattan Community Board 5, Manhattan, New York County, New York, 10001, United States</td>\n",
       "    </tr>\n",
       "    <tr>\n",
       "      <th>40.75, -73.98</th>\n",
       "      <td>1309029</td>\n",
       "      <td>35, East 38th Street, Murray Hill, Manhattan Community Board 6, Manhattan, New York County, New York, 10016, United States</td>\n",
       "    </tr>\n",
       "    <tr>\n",
       "      <th>40.74, -73.99</th>\n",
       "      <td>1045394</td>\n",
       "      <td>10, East 21st Street, Manhattan Community Board 5, Manhattan, New York County, New York, 10010, United States</td>\n",
       "    </tr>\n",
       "    <tr>\n",
       "      <th>40.76, -73.99</th>\n",
       "      <td>1012866</td>\n",
       "      <td>341, West 45th Street, Theater District, Hell's Kitchen, Manhattan, New York County, New York, 10036, United States</td>\n",
       "    </tr>\n",
       "    <tr>\n",
       "      <th>40.77, -73.96</th>\n",
       "      <td>967815</td>\n",
       "      <td>Dallas BBQ, 1265, 3rd Avenue, Carnegie Hill, Manhattan Community Board 8, Manhattan, New York County, New York, 10021, United States</td>\n",
       "    </tr>\n",
       "    <tr>\n",
       "      <th>40.77, -73.98</th>\n",
       "      <td>819244</td>\n",
       "      <td>Central Park Outer Loop, Manhattan, New York County, New York, 10023-7503, United States</td>\n",
       "    </tr>\n",
       "    <tr>\n",
       "      <th>40.73, -73.99</th>\n",
       "      <td>779278</td>\n",
       "      <td>51 Astor Place, East 9th Street, East Village, Manhattan Community Board 3, Manhattan, New York County, New York, 10003, United States</td>\n",
       "    </tr>\n",
       "    <tr>\n",
       "      <th>40.74, -73.98</th>\n",
       "      <td>737855</td>\n",
       "      <td>242, East 26th Street, Kips Bay, Manhattan Community Board 6, Manhattan, New York County, New York, 10010, United States</td>\n",
       "    </tr>\n",
       "  </tbody>\n",
       "</table>\n",
       "</div>"
      ],
      "text/plain": [
       "               num_trips  \\\n",
       "geocode                    \n",
       "40.76, -73.97    1616344   \n",
       "40.76, -73.98    1404771   \n",
       "40.75, -73.99    1345288   \n",
       "40.75, -73.98    1309029   \n",
       "40.74, -73.99    1045394   \n",
       "40.76, -73.99    1012866   \n",
       "40.77, -73.96     967815   \n",
       "40.77, -73.98     819244   \n",
       "40.73, -73.99     779278   \n",
       "40.74, -73.98     737855   \n",
       "\n",
       "                                                                                                                                                   address  \n",
       "geocode                                                                                                                                                     \n",
       "40.76, -73.97                               664, Lexington Avenue, Manhattan Community Board 5, Manhattan, New York County, New York, 10022, United States  \n",
       "40.76, -73.98  Rockefeller Center, 45, Rockefeller Plaza, Midtown, Manhattan Community Board 5, Manhattan, New York County, New York, 10111, United States  \n",
       "40.75, -73.99                               137, West 33rd Street, Manhattan Community Board 5, Manhattan, New York County, New York, 10001, United States  \n",
       "40.75, -73.98                   35, East 38th Street, Murray Hill, Manhattan Community Board 6, Manhattan, New York County, New York, 10016, United States  \n",
       "40.74, -73.99                                10, East 21st Street, Manhattan Community Board 5, Manhattan, New York County, New York, 10010, United States  \n",
       "40.76, -73.99                          341, West 45th Street, Theater District, Hell's Kitchen, Manhattan, New York County, New York, 10036, United States  \n",
       "40.77, -73.96         Dallas BBQ, 1265, 3rd Avenue, Carnegie Hill, Manhattan Community Board 8, Manhattan, New York County, New York, 10021, United States  \n",
       "40.77, -73.98                                                     Central Park Outer Loop, Manhattan, New York County, New York, 10023-7503, United States  \n",
       "40.73, -73.99       51 Astor Place, East 9th Street, East Village, Manhattan Community Board 3, Manhattan, New York County, New York, 10003, United States  \n",
       "40.74, -73.98                     242, East 26th Street, Kips Bay, Manhattan Community Board 6, Manhattan, New York County, New York, 10010, United States  "
      ]
     },
     "execution_count": 48,
     "metadata": {},
     "output_type": "execute_result"
    }
   ],
   "source": [
    "locations = pd.merge(pickup, dropoff, how='outer')\n",
    "locations = locations.fillna(0)\n",
    "locations['num_trips'] = locations['pickup_geocode'] + locations['dropoff_geocode']\n",
    "locations['num_trips'] = locations['num_trips'].astype(int)\n",
    "locations.drop(columns=['pickup_geocode','dropoff_geocode'],inplace=True)\n",
    "locations.rename(columns={'index':'geocode'},inplace=True)\n",
    "locations.set_index('geocode',inplace=True)\n",
    "locations = locations.sort_values(by='num_trips',ascending=False)[:10]\n",
    "locations['address'] = locations.index.map(get_address)\n",
    "locations"
   ]
  },
  {
   "cell_type": "code",
   "execution_count": 49,
   "metadata": {},
   "outputs": [],
   "source": [
    "import folium\n",
    "m=folium.Map(location=[40.730610, -73.935242],zoom_start = 12,tiles='cartodbpositron')"
   ]
  },
  {
   "cell_type": "code",
   "execution_count": 50,
   "metadata": {},
   "outputs": [],
   "source": [
    "for index,row in locations.iterrows():\n",
    "    folium.Marker([float(index.split(',')[0]), float(index.split(',')[1])], popup=row[\"address\"]).add_to(m)"
   ]
  },
  {
   "cell_type": "code",
   "execution_count": 51,
   "metadata": {},
   "outputs": [
    {
     "data": {
      "text/html": [
       "<div style=\"width:100%;\"><div style=\"position:relative;width:100%;height:0;padding-bottom:60%;\"><span style=\"color:#565656\">Make this Notebook Trusted to load map: File -> Trust Notebook</span><iframe src=\"about:blank\" style=\"position:absolute;width:100%;height:100%;left:0;top:0;border:none !important;\" data-html=%3C%21DOCTYPE%20html%3E%0A%3Chead%3E%20%20%20%20%0A%20%20%20%20%3Cmeta%20http-equiv%3D%22content-type%22%20content%3D%22text/html%3B%20charset%3DUTF-8%22%20/%3E%0A%20%20%20%20%0A%20%20%20%20%20%20%20%20%3Cscript%3E%0A%20%20%20%20%20%20%20%20%20%20%20%20L_NO_TOUCH%20%3D%20false%3B%0A%20%20%20%20%20%20%20%20%20%20%20%20L_DISABLE_3D%20%3D%20false%3B%0A%20%20%20%20%20%20%20%20%3C/script%3E%0A%20%20%20%20%0A%20%20%20%20%3Cstyle%3Ehtml%2C%20body%20%7Bwidth%3A%20100%25%3Bheight%3A%20100%25%3Bmargin%3A%200%3Bpadding%3A%200%3B%7D%3C/style%3E%0A%20%20%20%20%3Cstyle%3E%23map%20%7Bposition%3Aabsolute%3Btop%3A0%3Bbottom%3A0%3Bright%3A0%3Bleft%3A0%3B%7D%3C/style%3E%0A%20%20%20%20%3Cscript%20src%3D%22https%3A//cdn.jsdelivr.net/npm/leaflet%401.6.0/dist/leaflet.js%22%3E%3C/script%3E%0A%20%20%20%20%3Cscript%20src%3D%22https%3A//code.jquery.com/jquery-1.12.4.min.js%22%3E%3C/script%3E%0A%20%20%20%20%3Cscript%20src%3D%22https%3A//maxcdn.bootstrapcdn.com/bootstrap/3.2.0/js/bootstrap.min.js%22%3E%3C/script%3E%0A%20%20%20%20%3Cscript%20src%3D%22https%3A//cdnjs.cloudflare.com/ajax/libs/Leaflet.awesome-markers/2.0.2/leaflet.awesome-markers.js%22%3E%3C/script%3E%0A%20%20%20%20%3Clink%20rel%3D%22stylesheet%22%20href%3D%22https%3A//cdn.jsdelivr.net/npm/leaflet%401.6.0/dist/leaflet.css%22/%3E%0A%20%20%20%20%3Clink%20rel%3D%22stylesheet%22%20href%3D%22https%3A//maxcdn.bootstrapcdn.com/bootstrap/3.2.0/css/bootstrap.min.css%22/%3E%0A%20%20%20%20%3Clink%20rel%3D%22stylesheet%22%20href%3D%22https%3A//maxcdn.bootstrapcdn.com/bootstrap/3.2.0/css/bootstrap-theme.min.css%22/%3E%0A%20%20%20%20%3Clink%20rel%3D%22stylesheet%22%20href%3D%22https%3A//maxcdn.bootstrapcdn.com/font-awesome/4.6.3/css/font-awesome.min.css%22/%3E%0A%20%20%20%20%3Clink%20rel%3D%22stylesheet%22%20href%3D%22https%3A//cdnjs.cloudflare.com/ajax/libs/Leaflet.awesome-markers/2.0.2/leaflet.awesome-markers.css%22/%3E%0A%20%20%20%20%3Clink%20rel%3D%22stylesheet%22%20href%3D%22https%3A//cdn.jsdelivr.net/gh/python-visualization/folium/folium/templates/leaflet.awesome.rotate.min.css%22/%3E%0A%20%20%20%20%0A%20%20%20%20%20%20%20%20%20%20%20%20%3Cmeta%20name%3D%22viewport%22%20content%3D%22width%3Ddevice-width%2C%0A%20%20%20%20%20%20%20%20%20%20%20%20%20%20%20%20initial-scale%3D1.0%2C%20maximum-scale%3D1.0%2C%20user-scalable%3Dno%22%20/%3E%0A%20%20%20%20%20%20%20%20%20%20%20%20%3Cstyle%3E%0A%20%20%20%20%20%20%20%20%20%20%20%20%20%20%20%20%23map_6805dcdaf5884866b55979697d079610%20%7B%0A%20%20%20%20%20%20%20%20%20%20%20%20%20%20%20%20%20%20%20%20position%3A%20relative%3B%0A%20%20%20%20%20%20%20%20%20%20%20%20%20%20%20%20%20%20%20%20width%3A%20100.0%25%3B%0A%20%20%20%20%20%20%20%20%20%20%20%20%20%20%20%20%20%20%20%20height%3A%20100.0%25%3B%0A%20%20%20%20%20%20%20%20%20%20%20%20%20%20%20%20%20%20%20%20left%3A%200.0%25%3B%0A%20%20%20%20%20%20%20%20%20%20%20%20%20%20%20%20%20%20%20%20top%3A%200.0%25%3B%0A%20%20%20%20%20%20%20%20%20%20%20%20%20%20%20%20%7D%0A%20%20%20%20%20%20%20%20%20%20%20%20%3C/style%3E%0A%20%20%20%20%20%20%20%20%0A%3C/head%3E%0A%3Cbody%3E%20%20%20%20%0A%20%20%20%20%0A%20%20%20%20%20%20%20%20%20%20%20%20%3Cdiv%20class%3D%22folium-map%22%20id%3D%22map_6805dcdaf5884866b55979697d079610%22%20%3E%3C/div%3E%0A%20%20%20%20%20%20%20%20%0A%3C/body%3E%0A%3Cscript%3E%20%20%20%20%0A%20%20%20%20%0A%20%20%20%20%20%20%20%20%20%20%20%20var%20map_6805dcdaf5884866b55979697d079610%20%3D%20L.map%28%0A%20%20%20%20%20%20%20%20%20%20%20%20%20%20%20%20%22map_6805dcdaf5884866b55979697d079610%22%2C%0A%20%20%20%20%20%20%20%20%20%20%20%20%20%20%20%20%7B%0A%20%20%20%20%20%20%20%20%20%20%20%20%20%20%20%20%20%20%20%20center%3A%20%5B40.73061%2C%20-73.935242%5D%2C%0A%20%20%20%20%20%20%20%20%20%20%20%20%20%20%20%20%20%20%20%20crs%3A%20L.CRS.EPSG3857%2C%0A%20%20%20%20%20%20%20%20%20%20%20%20%20%20%20%20%20%20%20%20zoom%3A%2012%2C%0A%20%20%20%20%20%20%20%20%20%20%20%20%20%20%20%20%20%20%20%20zoomControl%3A%20true%2C%0A%20%20%20%20%20%20%20%20%20%20%20%20%20%20%20%20%20%20%20%20preferCanvas%3A%20false%2C%0A%20%20%20%20%20%20%20%20%20%20%20%20%20%20%20%20%7D%0A%20%20%20%20%20%20%20%20%20%20%20%20%29%3B%0A%0A%20%20%20%20%20%20%20%20%20%20%20%20%0A%0A%20%20%20%20%20%20%20%20%0A%20%20%20%20%0A%20%20%20%20%20%20%20%20%20%20%20%20var%20tile_layer_eddc07966dbb49a38978a3ef5e1549b9%20%3D%20L.tileLayer%28%0A%20%20%20%20%20%20%20%20%20%20%20%20%20%20%20%20%22https%3A//cartodb-basemaps-%7Bs%7D.global.ssl.fastly.net/light_all/%7Bz%7D/%7Bx%7D/%7By%7D.png%22%2C%0A%20%20%20%20%20%20%20%20%20%20%20%20%20%20%20%20%7B%22attribution%22%3A%20%22%5Cu0026copy%3B%20%5Cu003ca%20href%3D%5C%22http%3A//www.openstreetmap.org/copyright%5C%22%5Cu003eOpenStreetMap%5Cu003c/a%5Cu003e%20contributors%20%5Cu0026copy%3B%20%5Cu003ca%20href%3D%5C%22http%3A//cartodb.com/attributions%5C%22%5Cu003eCartoDB%5Cu003c/a%5Cu003e%2C%20CartoDB%20%5Cu003ca%20href%20%3D%5C%22http%3A//cartodb.com/attributions%5C%22%5Cu003eattributions%5Cu003c/a%5Cu003e%22%2C%20%22detectRetina%22%3A%20false%2C%20%22maxNativeZoom%22%3A%2018%2C%20%22maxZoom%22%3A%2018%2C%20%22minZoom%22%3A%200%2C%20%22noWrap%22%3A%20false%2C%20%22opacity%22%3A%201%2C%20%22subdomains%22%3A%20%22abc%22%2C%20%22tms%22%3A%20false%7D%0A%20%20%20%20%20%20%20%20%20%20%20%20%29.addTo%28map_6805dcdaf5884866b55979697d079610%29%3B%0A%20%20%20%20%20%20%20%20%0A%20%20%20%20%0A%20%20%20%20%20%20%20%20%20%20%20%20var%20marker_b6b1ec20348f4ca4bd069556dd21500f%20%3D%20L.marker%28%0A%20%20%20%20%20%20%20%20%20%20%20%20%20%20%20%20%5B40.76%2C%20-73.97%5D%2C%0A%20%20%20%20%20%20%20%20%20%20%20%20%20%20%20%20%7B%7D%0A%20%20%20%20%20%20%20%20%20%20%20%20%29.addTo%28map_6805dcdaf5884866b55979697d079610%29%3B%0A%20%20%20%20%20%20%20%20%0A%20%20%20%20%0A%20%20%20%20%20%20%20%20var%20popup_cd152e805904491c902e50025641a139%20%3D%20L.popup%28%7B%22maxWidth%22%3A%20%22100%25%22%7D%29%3B%0A%0A%20%20%20%20%20%20%20%20%0A%20%20%20%20%20%20%20%20%20%20%20%20var%20html_bbb7bb1d1998436ca5ac1a2a7394ddf4%20%3D%20%24%28%60%3Cdiv%20id%3D%22html_bbb7bb1d1998436ca5ac1a2a7394ddf4%22%20style%3D%22width%3A%20100.0%25%3B%20height%3A%20100.0%25%3B%22%3E664%2C%20Lexington%20Avenue%2C%20Manhattan%20Community%20Board%205%2C%20Manhattan%2C%20New%20York%20County%2C%20New%20York%2C%2010022%2C%20United%20States%3C/div%3E%60%29%5B0%5D%3B%0A%20%20%20%20%20%20%20%20%20%20%20%20popup_cd152e805904491c902e50025641a139.setContent%28html_bbb7bb1d1998436ca5ac1a2a7394ddf4%29%3B%0A%20%20%20%20%20%20%20%20%0A%0A%20%20%20%20%20%20%20%20marker_b6b1ec20348f4ca4bd069556dd21500f.bindPopup%28popup_cd152e805904491c902e50025641a139%29%0A%20%20%20%20%20%20%20%20%3B%0A%0A%20%20%20%20%20%20%20%20%0A%20%20%20%20%0A%20%20%20%20%0A%20%20%20%20%20%20%20%20%20%20%20%20var%20marker_3fdfe0e81fe548cd9673c1537beeec18%20%3D%20L.marker%28%0A%20%20%20%20%20%20%20%20%20%20%20%20%20%20%20%20%5B40.76%2C%20-73.98%5D%2C%0A%20%20%20%20%20%20%20%20%20%20%20%20%20%20%20%20%7B%7D%0A%20%20%20%20%20%20%20%20%20%20%20%20%29.addTo%28map_6805dcdaf5884866b55979697d079610%29%3B%0A%20%20%20%20%20%20%20%20%0A%20%20%20%20%0A%20%20%20%20%20%20%20%20var%20popup_19dfece29eba4a2689e9d69f02bad015%20%3D%20L.popup%28%7B%22maxWidth%22%3A%20%22100%25%22%7D%29%3B%0A%0A%20%20%20%20%20%20%20%20%0A%20%20%20%20%20%20%20%20%20%20%20%20var%20html_efc8820125cf40ca822971e8e6f2d2ad%20%3D%20%24%28%60%3Cdiv%20id%3D%22html_efc8820125cf40ca822971e8e6f2d2ad%22%20style%3D%22width%3A%20100.0%25%3B%20height%3A%20100.0%25%3B%22%3ERockefeller%20Center%2C%2045%2C%20Rockefeller%20Plaza%2C%20Midtown%2C%20Manhattan%20Community%20Board%205%2C%20Manhattan%2C%20New%20York%20County%2C%20New%20York%2C%2010111%2C%20United%20States%3C/div%3E%60%29%5B0%5D%3B%0A%20%20%20%20%20%20%20%20%20%20%20%20popup_19dfece29eba4a2689e9d69f02bad015.setContent%28html_efc8820125cf40ca822971e8e6f2d2ad%29%3B%0A%20%20%20%20%20%20%20%20%0A%0A%20%20%20%20%20%20%20%20marker_3fdfe0e81fe548cd9673c1537beeec18.bindPopup%28popup_19dfece29eba4a2689e9d69f02bad015%29%0A%20%20%20%20%20%20%20%20%3B%0A%0A%20%20%20%20%20%20%20%20%0A%20%20%20%20%0A%20%20%20%20%0A%20%20%20%20%20%20%20%20%20%20%20%20var%20marker_a6c63bf6a5a4428d9c7e42755db9fea8%20%3D%20L.marker%28%0A%20%20%20%20%20%20%20%20%20%20%20%20%20%20%20%20%5B40.75%2C%20-73.99%5D%2C%0A%20%20%20%20%20%20%20%20%20%20%20%20%20%20%20%20%7B%7D%0A%20%20%20%20%20%20%20%20%20%20%20%20%29.addTo%28map_6805dcdaf5884866b55979697d079610%29%3B%0A%20%20%20%20%20%20%20%20%0A%20%20%20%20%0A%20%20%20%20%20%20%20%20var%20popup_7dfb1a19b4f8449c9609db4ea9a22757%20%3D%20L.popup%28%7B%22maxWidth%22%3A%20%22100%25%22%7D%29%3B%0A%0A%20%20%20%20%20%20%20%20%0A%20%20%20%20%20%20%20%20%20%20%20%20var%20html_08c345cda0f04028aee205c485132022%20%3D%20%24%28%60%3Cdiv%20id%3D%22html_08c345cda0f04028aee205c485132022%22%20style%3D%22width%3A%20100.0%25%3B%20height%3A%20100.0%25%3B%22%3E137%2C%20West%2033rd%20Street%2C%20Manhattan%20Community%20Board%205%2C%20Manhattan%2C%20New%20York%20County%2C%20New%20York%2C%2010001%2C%20United%20States%3C/div%3E%60%29%5B0%5D%3B%0A%20%20%20%20%20%20%20%20%20%20%20%20popup_7dfb1a19b4f8449c9609db4ea9a22757.setContent%28html_08c345cda0f04028aee205c485132022%29%3B%0A%20%20%20%20%20%20%20%20%0A%0A%20%20%20%20%20%20%20%20marker_a6c63bf6a5a4428d9c7e42755db9fea8.bindPopup%28popup_7dfb1a19b4f8449c9609db4ea9a22757%29%0A%20%20%20%20%20%20%20%20%3B%0A%0A%20%20%20%20%20%20%20%20%0A%20%20%20%20%0A%20%20%20%20%0A%20%20%20%20%20%20%20%20%20%20%20%20var%20marker_c39fe6415bd44ba598b3c223a9ec3e72%20%3D%20L.marker%28%0A%20%20%20%20%20%20%20%20%20%20%20%20%20%20%20%20%5B40.75%2C%20-73.98%5D%2C%0A%20%20%20%20%20%20%20%20%20%20%20%20%20%20%20%20%7B%7D%0A%20%20%20%20%20%20%20%20%20%20%20%20%29.addTo%28map_6805dcdaf5884866b55979697d079610%29%3B%0A%20%20%20%20%20%20%20%20%0A%20%20%20%20%0A%20%20%20%20%20%20%20%20var%20popup_262844a8d631457c94d79e4584e4042a%20%3D%20L.popup%28%7B%22maxWidth%22%3A%20%22100%25%22%7D%29%3B%0A%0A%20%20%20%20%20%20%20%20%0A%20%20%20%20%20%20%20%20%20%20%20%20var%20html_59e80a8c3f7f4d409977bf4338775ea9%20%3D%20%24%28%60%3Cdiv%20id%3D%22html_59e80a8c3f7f4d409977bf4338775ea9%22%20style%3D%22width%3A%20100.0%25%3B%20height%3A%20100.0%25%3B%22%3E35%2C%20East%2038th%20Street%2C%20Murray%20Hill%2C%20Manhattan%20Community%20Board%206%2C%20Manhattan%2C%20New%20York%20County%2C%20New%20York%2C%2010016%2C%20United%20States%3C/div%3E%60%29%5B0%5D%3B%0A%20%20%20%20%20%20%20%20%20%20%20%20popup_262844a8d631457c94d79e4584e4042a.setContent%28html_59e80a8c3f7f4d409977bf4338775ea9%29%3B%0A%20%20%20%20%20%20%20%20%0A%0A%20%20%20%20%20%20%20%20marker_c39fe6415bd44ba598b3c223a9ec3e72.bindPopup%28popup_262844a8d631457c94d79e4584e4042a%29%0A%20%20%20%20%20%20%20%20%3B%0A%0A%20%20%20%20%20%20%20%20%0A%20%20%20%20%0A%20%20%20%20%0A%20%20%20%20%20%20%20%20%20%20%20%20var%20marker_cf74ace526ce40af894c2eb26bc09bf5%20%3D%20L.marker%28%0A%20%20%20%20%20%20%20%20%20%20%20%20%20%20%20%20%5B40.74%2C%20-73.99%5D%2C%0A%20%20%20%20%20%20%20%20%20%20%20%20%20%20%20%20%7B%7D%0A%20%20%20%20%20%20%20%20%20%20%20%20%29.addTo%28map_6805dcdaf5884866b55979697d079610%29%3B%0A%20%20%20%20%20%20%20%20%0A%20%20%20%20%0A%20%20%20%20%20%20%20%20var%20popup_903ad6cb9b6d45139d65523f4fad3cfb%20%3D%20L.popup%28%7B%22maxWidth%22%3A%20%22100%25%22%7D%29%3B%0A%0A%20%20%20%20%20%20%20%20%0A%20%20%20%20%20%20%20%20%20%20%20%20var%20html_5ec8f3fbc4d9435a9cd039fe7ed9d184%20%3D%20%24%28%60%3Cdiv%20id%3D%22html_5ec8f3fbc4d9435a9cd039fe7ed9d184%22%20style%3D%22width%3A%20100.0%25%3B%20height%3A%20100.0%25%3B%22%3E10%2C%20East%2021st%20Street%2C%20Manhattan%20Community%20Board%205%2C%20Manhattan%2C%20New%20York%20County%2C%20New%20York%2C%2010010%2C%20United%20States%3C/div%3E%60%29%5B0%5D%3B%0A%20%20%20%20%20%20%20%20%20%20%20%20popup_903ad6cb9b6d45139d65523f4fad3cfb.setContent%28html_5ec8f3fbc4d9435a9cd039fe7ed9d184%29%3B%0A%20%20%20%20%20%20%20%20%0A%0A%20%20%20%20%20%20%20%20marker_cf74ace526ce40af894c2eb26bc09bf5.bindPopup%28popup_903ad6cb9b6d45139d65523f4fad3cfb%29%0A%20%20%20%20%20%20%20%20%3B%0A%0A%20%20%20%20%20%20%20%20%0A%20%20%20%20%0A%20%20%20%20%0A%20%20%20%20%20%20%20%20%20%20%20%20var%20marker_f6f2e2cc5f1b48f69104e75fbb53f38d%20%3D%20L.marker%28%0A%20%20%20%20%20%20%20%20%20%20%20%20%20%20%20%20%5B40.76%2C%20-73.99%5D%2C%0A%20%20%20%20%20%20%20%20%20%20%20%20%20%20%20%20%7B%7D%0A%20%20%20%20%20%20%20%20%20%20%20%20%29.addTo%28map_6805dcdaf5884866b55979697d079610%29%3B%0A%20%20%20%20%20%20%20%20%0A%20%20%20%20%0A%20%20%20%20%20%20%20%20var%20popup_5ba081ab5b554786b72949c43b5181e5%20%3D%20L.popup%28%7B%22maxWidth%22%3A%20%22100%25%22%7D%29%3B%0A%0A%20%20%20%20%20%20%20%20%0A%20%20%20%20%20%20%20%20%20%20%20%20var%20html_ba571f308ae8441389df8dc9c676a03e%20%3D%20%24%28%60%3Cdiv%20id%3D%22html_ba571f308ae8441389df8dc9c676a03e%22%20style%3D%22width%3A%20100.0%25%3B%20height%3A%20100.0%25%3B%22%3E341%2C%20West%2045th%20Street%2C%20Theater%20District%2C%20Hell%27s%20Kitchen%2C%20Manhattan%2C%20New%20York%20County%2C%20New%20York%2C%2010036%2C%20United%20States%3C/div%3E%60%29%5B0%5D%3B%0A%20%20%20%20%20%20%20%20%20%20%20%20popup_5ba081ab5b554786b72949c43b5181e5.setContent%28html_ba571f308ae8441389df8dc9c676a03e%29%3B%0A%20%20%20%20%20%20%20%20%0A%0A%20%20%20%20%20%20%20%20marker_f6f2e2cc5f1b48f69104e75fbb53f38d.bindPopup%28popup_5ba081ab5b554786b72949c43b5181e5%29%0A%20%20%20%20%20%20%20%20%3B%0A%0A%20%20%20%20%20%20%20%20%0A%20%20%20%20%0A%20%20%20%20%0A%20%20%20%20%20%20%20%20%20%20%20%20var%20marker_e2b2a80c8f9b4fe0b1323842a5bc1084%20%3D%20L.marker%28%0A%20%20%20%20%20%20%20%20%20%20%20%20%20%20%20%20%5B40.77%2C%20-73.96%5D%2C%0A%20%20%20%20%20%20%20%20%20%20%20%20%20%20%20%20%7B%7D%0A%20%20%20%20%20%20%20%20%20%20%20%20%29.addTo%28map_6805dcdaf5884866b55979697d079610%29%3B%0A%20%20%20%20%20%20%20%20%0A%20%20%20%20%0A%20%20%20%20%20%20%20%20var%20popup_71e01053448646149a5f4cba75748cf1%20%3D%20L.popup%28%7B%22maxWidth%22%3A%20%22100%25%22%7D%29%3B%0A%0A%20%20%20%20%20%20%20%20%0A%20%20%20%20%20%20%20%20%20%20%20%20var%20html_977ba39f6dbd4b4daaee9000c1003824%20%3D%20%24%28%60%3Cdiv%20id%3D%22html_977ba39f6dbd4b4daaee9000c1003824%22%20style%3D%22width%3A%20100.0%25%3B%20height%3A%20100.0%25%3B%22%3EDallas%20BBQ%2C%201265%2C%203rd%20Avenue%2C%20Carnegie%20Hill%2C%20Manhattan%20Community%20Board%208%2C%20Manhattan%2C%20New%20York%20County%2C%20New%20York%2C%2010021%2C%20United%20States%3C/div%3E%60%29%5B0%5D%3B%0A%20%20%20%20%20%20%20%20%20%20%20%20popup_71e01053448646149a5f4cba75748cf1.setContent%28html_977ba39f6dbd4b4daaee9000c1003824%29%3B%0A%20%20%20%20%20%20%20%20%0A%0A%20%20%20%20%20%20%20%20marker_e2b2a80c8f9b4fe0b1323842a5bc1084.bindPopup%28popup_71e01053448646149a5f4cba75748cf1%29%0A%20%20%20%20%20%20%20%20%3B%0A%0A%20%20%20%20%20%20%20%20%0A%20%20%20%20%0A%20%20%20%20%0A%20%20%20%20%20%20%20%20%20%20%20%20var%20marker_605368b79ec94bb0a78ccd5b25e9bb06%20%3D%20L.marker%28%0A%20%20%20%20%20%20%20%20%20%20%20%20%20%20%20%20%5B40.77%2C%20-73.98%5D%2C%0A%20%20%20%20%20%20%20%20%20%20%20%20%20%20%20%20%7B%7D%0A%20%20%20%20%20%20%20%20%20%20%20%20%29.addTo%28map_6805dcdaf5884866b55979697d079610%29%3B%0A%20%20%20%20%20%20%20%20%0A%20%20%20%20%0A%20%20%20%20%20%20%20%20var%20popup_199226ef890345cdbced2182f12d850b%20%3D%20L.popup%28%7B%22maxWidth%22%3A%20%22100%25%22%7D%29%3B%0A%0A%20%20%20%20%20%20%20%20%0A%20%20%20%20%20%20%20%20%20%20%20%20var%20html_a2feed96e433474684ee7d35df3180e6%20%3D%20%24%28%60%3Cdiv%20id%3D%22html_a2feed96e433474684ee7d35df3180e6%22%20style%3D%22width%3A%20100.0%25%3B%20height%3A%20100.0%25%3B%22%3ECentral%20Park%20Outer%20Loop%2C%20Manhattan%2C%20New%20York%20County%2C%20New%20York%2C%2010023-7503%2C%20United%20States%3C/div%3E%60%29%5B0%5D%3B%0A%20%20%20%20%20%20%20%20%20%20%20%20popup_199226ef890345cdbced2182f12d850b.setContent%28html_a2feed96e433474684ee7d35df3180e6%29%3B%0A%20%20%20%20%20%20%20%20%0A%0A%20%20%20%20%20%20%20%20marker_605368b79ec94bb0a78ccd5b25e9bb06.bindPopup%28popup_199226ef890345cdbced2182f12d850b%29%0A%20%20%20%20%20%20%20%20%3B%0A%0A%20%20%20%20%20%20%20%20%0A%20%20%20%20%0A%20%20%20%20%0A%20%20%20%20%20%20%20%20%20%20%20%20var%20marker_be11cfee5ab94c149cdcb06d3f33e6d0%20%3D%20L.marker%28%0A%20%20%20%20%20%20%20%20%20%20%20%20%20%20%20%20%5B40.73%2C%20-73.99%5D%2C%0A%20%20%20%20%20%20%20%20%20%20%20%20%20%20%20%20%7B%7D%0A%20%20%20%20%20%20%20%20%20%20%20%20%29.addTo%28map_6805dcdaf5884866b55979697d079610%29%3B%0A%20%20%20%20%20%20%20%20%0A%20%20%20%20%0A%20%20%20%20%20%20%20%20var%20popup_25dd2b8c23f74bb68171cdb616badae5%20%3D%20L.popup%28%7B%22maxWidth%22%3A%20%22100%25%22%7D%29%3B%0A%0A%20%20%20%20%20%20%20%20%0A%20%20%20%20%20%20%20%20%20%20%20%20var%20html_a682bf446f364801a2b358cf789f1a23%20%3D%20%24%28%60%3Cdiv%20id%3D%22html_a682bf446f364801a2b358cf789f1a23%22%20style%3D%22width%3A%20100.0%25%3B%20height%3A%20100.0%25%3B%22%3E51%20Astor%20Place%2C%20East%209th%20Street%2C%20East%20Village%2C%20Manhattan%20Community%20Board%203%2C%20Manhattan%2C%20New%20York%20County%2C%20New%20York%2C%2010003%2C%20United%20States%3C/div%3E%60%29%5B0%5D%3B%0A%20%20%20%20%20%20%20%20%20%20%20%20popup_25dd2b8c23f74bb68171cdb616badae5.setContent%28html_a682bf446f364801a2b358cf789f1a23%29%3B%0A%20%20%20%20%20%20%20%20%0A%0A%20%20%20%20%20%20%20%20marker_be11cfee5ab94c149cdcb06d3f33e6d0.bindPopup%28popup_25dd2b8c23f74bb68171cdb616badae5%29%0A%20%20%20%20%20%20%20%20%3B%0A%0A%20%20%20%20%20%20%20%20%0A%20%20%20%20%0A%20%20%20%20%0A%20%20%20%20%20%20%20%20%20%20%20%20var%20marker_5af61edd29b5466d8729216b6ab9c70a%20%3D%20L.marker%28%0A%20%20%20%20%20%20%20%20%20%20%20%20%20%20%20%20%5B40.74%2C%20-73.98%5D%2C%0A%20%20%20%20%20%20%20%20%20%20%20%20%20%20%20%20%7B%7D%0A%20%20%20%20%20%20%20%20%20%20%20%20%29.addTo%28map_6805dcdaf5884866b55979697d079610%29%3B%0A%20%20%20%20%20%20%20%20%0A%20%20%20%20%0A%20%20%20%20%20%20%20%20var%20popup_b52a2b09468e4340821d7ef0f53d6ee9%20%3D%20L.popup%28%7B%22maxWidth%22%3A%20%22100%25%22%7D%29%3B%0A%0A%20%20%20%20%20%20%20%20%0A%20%20%20%20%20%20%20%20%20%20%20%20var%20html_9bc4c6580a3c4e67a6431fa724ed2fac%20%3D%20%24%28%60%3Cdiv%20id%3D%22html_9bc4c6580a3c4e67a6431fa724ed2fac%22%20style%3D%22width%3A%20100.0%25%3B%20height%3A%20100.0%25%3B%22%3E242%2C%20East%2026th%20Street%2C%20Kips%20Bay%2C%20Manhattan%20Community%20Board%206%2C%20Manhattan%2C%20New%20York%20County%2C%20New%20York%2C%2010010%2C%20United%20States%3C/div%3E%60%29%5B0%5D%3B%0A%20%20%20%20%20%20%20%20%20%20%20%20popup_b52a2b09468e4340821d7ef0f53d6ee9.setContent%28html_9bc4c6580a3c4e67a6431fa724ed2fac%29%3B%0A%20%20%20%20%20%20%20%20%0A%0A%20%20%20%20%20%20%20%20marker_5af61edd29b5466d8729216b6ab9c70a.bindPopup%28popup_b52a2b09468e4340821d7ef0f53d6ee9%29%0A%20%20%20%20%20%20%20%20%3B%0A%0A%20%20%20%20%20%20%20%20%0A%20%20%20%20%0A%3C/script%3E onload=\"this.contentDocument.open();this.contentDocument.write(    decodeURIComponent(this.getAttribute('data-html')));this.contentDocument.close();\" allowfullscreen webkitallowfullscreen mozallowfullscreen></iframe></div></div>"
      ],
      "text/plain": [
       "<folium.folium.Map at 0x274aa98d400>"
      ]
     },
     "execution_count": 51,
     "metadata": {},
     "output_type": "execute_result"
    }
   ],
   "source": [
    "m"
   ]
  },
  {
   "cell_type": "markdown",
   "metadata": {},
   "source": [
    "# h. Which trip has the highest standard deviation of travel times?"
   ]
  },
  {
   "cell_type": "markdown",
   "metadata": {},
   "source": [
    "Lets calculate the minimum number of trips(i.e. from pickup to dropoff) required to be included for the standard deviation analysis.\n",
    "\n",
    "Assume, \n",
    "* Margin of Error = 5% \n",
    "* Confidence Interval = 95% => z-score = 1.96\n",
    "* Standard Deviation = 0.5(say)\n",
    "\n",
    "Hence, Number of trips = 385 "
   ]
  },
  {
   "cell_type": "code",
   "execution_count": 52,
   "metadata": {},
   "outputs": [
    {
     "data": {
      "text/html": [
       "<div>\n",
       "<style scoped>\n",
       "    .dataframe tbody tr th:only-of-type {\n",
       "        vertical-align: middle;\n",
       "    }\n",
       "\n",
       "    .dataframe tbody tr th {\n",
       "        vertical-align: top;\n",
       "    }\n",
       "\n",
       "    .dataframe thead th {\n",
       "        text-align: right;\n",
       "    }\n",
       "</style>\n",
       "<table border=\"1\" class=\"dataframe\">\n",
       "  <thead>\n",
       "    <tr style=\"text-align: right;\">\n",
       "      <th></th>\n",
       "      <th>trip_time_in_secs</th>\n",
       "      <th>fare_amount</th>\n",
       "      <th>pickup_geocode</th>\n",
       "      <th>dropoff_geocode</th>\n",
       "      <th>route</th>\n",
       "    </tr>\n",
       "  </thead>\n",
       "  <tbody>\n",
       "    <tr>\n",
       "      <th>0</th>\n",
       "      <td>759</td>\n",
       "      <td>11.00000</td>\n",
       "      <td>40.77, -73.96</td>\n",
       "      <td>40.79, -73.98</td>\n",
       "      <td>40.77, -73.96 : 40.79, -73.98</td>\n",
       "    </tr>\n",
       "    <tr>\n",
       "      <th>1</th>\n",
       "      <td>799</td>\n",
       "      <td>10.00000</td>\n",
       "      <td>40.76, -73.98</td>\n",
       "      <td>40.78, -73.96</td>\n",
       "      <td>40.76, -73.98 : 40.78, -73.96</td>\n",
       "    </tr>\n",
       "    <tr>\n",
       "      <th>2</th>\n",
       "      <td>189</td>\n",
       "      <td>4.50000</td>\n",
       "      <td>40.75, -73.99</td>\n",
       "      <td>40.75, -73.99</td>\n",
       "      <td>40.75, -73.99 : 40.75, -73.99</td>\n",
       "    </tr>\n",
       "    <tr>\n",
       "      <th>3</th>\n",
       "      <td>354</td>\n",
       "      <td>6.50000</td>\n",
       "      <td>40.76, -73.99</td>\n",
       "      <td>40.75, -73.98</td>\n",
       "      <td>40.76, -73.99 : 40.75, -73.98</td>\n",
       "    </tr>\n",
       "    <tr>\n",
       "      <th>4</th>\n",
       "      <td>635</td>\n",
       "      <td>7.50000</td>\n",
       "      <td>40.76, -73.98</td>\n",
       "      <td>40.76, -73.98</td>\n",
       "      <td>40.76, -73.98 : 40.76, -73.98</td>\n",
       "    </tr>\n",
       "  </tbody>\n",
       "</table>\n",
       "</div>"
      ],
      "text/plain": [
       "   trip_time_in_secs  fare_amount pickup_geocode dropoff_geocode  \\\n",
       "0                759     11.00000  40.77, -73.96   40.79, -73.98   \n",
       "1                799     10.00000  40.76, -73.98   40.78, -73.96   \n",
       "2                189      4.50000  40.75, -73.99   40.75, -73.99   \n",
       "3                354      6.50000  40.76, -73.99   40.75, -73.98   \n",
       "4                635      7.50000  40.76, -73.98   40.76, -73.98   \n",
       "\n",
       "                           route  \n",
       "0  40.77, -73.96 : 40.79, -73.98  \n",
       "1  40.76, -73.98 : 40.78, -73.96  \n",
       "2  40.75, -73.99 : 40.75, -73.99  \n",
       "3  40.76, -73.99 : 40.75, -73.98  \n",
       "4  40.76, -73.98 : 40.76, -73.98  "
      ]
     },
     "execution_count": 52,
     "metadata": {},
     "output_type": "execute_result"
    }
   ],
   "source": [
    "# Create a subset of dataframe for anaylsis\n",
    "trip_df = trips[['pickup_latitude','pickup_longitude','dropoff_latitude','dropoff_longitude','trip_time_in_secs','fare_amount']]\n",
    "\n",
    "# Round off lat and long to two decimal places to get places at a more reasonable scale\n",
    "trip_df['pickup_latitude'] = trip_df.pickup_latitude.round(2)\n",
    "trip_df['pickup_longitude'] = trip_df.pickup_longitude.round(2)\n",
    "trip_df['dropoff_latitude'] = trip_df.dropoff_latitude.round(2)\n",
    "trip_df['dropoff_longitude'] = trip_df.dropoff_longitude.round(2)\n",
    "\n",
    "# Create lat,long pairs for pickup and dropoff\n",
    "trip_df['pickup_geocode'] = trip_df.pickup_latitude.astype(str) + ', ' + trip_df.pickup_longitude.astype(str)\n",
    "trip_df['dropoff_geocode'] = trip_df.dropoff_latitude.astype(str) + ', ' + trip_df.dropoff_longitude.astype(str)\n",
    "\n",
    "# Creating routes with a combination of pickup and dropoff codes\n",
    "trip_df['route'] = trip_df.pickup_geocode + ' : ' + trip_df.dropoff_geocode\n",
    "\n",
    "# Drop columns\n",
    "trip_df.drop(columns=['pickup_latitude','pickup_longitude','dropoff_latitude','dropoff_longitude'],inplace=True)\n",
    "\n",
    "# Filter out routes with less than 385 trips\n",
    "trip_df = trip_df.groupby('route').filter(lambda x: len(x) >= 385)\n",
    "\n",
    "trip_df.head()"
   ]
  },
  {
   "cell_type": "code",
   "execution_count": 53,
   "metadata": {},
   "outputs": [
    {
     "data": {
      "text/plain": [
       "route\n",
       "40.65, -73.79 : 40.65, -73.79   1430.94447\n",
       "Name: trip_time_in_secs, dtype: float64"
      ]
     },
     "execution_count": 53,
     "metadata": {},
     "output_type": "execute_result"
    }
   ],
   "source": [
    "# Trip with highest std of travel time\n",
    "res = trip_df.groupby('route')['trip_time_in_secs'].std().sort_values(ascending=False)[:1]\n",
    "res"
   ]
  },
  {
   "cell_type": "code",
   "execution_count": 54,
   "metadata": {},
   "outputs": [
    {
     "name": "stdout",
     "output_type": "stream",
     "text": [
      "Pickup Address = JFK Terminal 8, Terminal 8 Parking, Queens, Queens County, New York, 11430, United States\n",
      "Dropoff Address = JFK Terminal 8, Terminal 8 Parking, Queens, Queens County, New York, 11430, United States\n"
     ]
    }
   ],
   "source": [
    "#Route pickup address\n",
    "pickup_addr = get_address(res.index[0].split(':')[0])\n",
    "print(f'Pickup Address = {pickup_addr}')\n",
    "\n",
    "#Route dropoff address\n",
    "drop_addr = get_address(res.index[0].split(':')[1])\n",
    "print(f'Dropoff Address = {drop_addr}')"
   ]
  },
  {
   "cell_type": "markdown",
   "metadata": {},
   "source": [
    "It looks like internal airport travel has the highest standard deviation"
   ]
  },
  {
   "cell_type": "markdown",
   "metadata": {},
   "source": [
    "# i. Which trip has the most consistent fares?"
   ]
  },
  {
   "cell_type": "markdown",
   "metadata": {},
   "source": [
    "The trip with lowest standard deviation of fare amount will be considered most consistent."
   ]
  },
  {
   "cell_type": "code",
   "execution_count": 56,
   "metadata": {},
   "outputs": [
    {
     "data": {
      "text/plain": [
       "route\n",
       "40.79, -73.97 : 40.64, -73.79   0.37167\n",
       "Name: fare_amount, dtype: float64"
      ]
     },
     "execution_count": 56,
     "metadata": {},
     "output_type": "execute_result"
    }
   ],
   "source": [
    "res = trip_df.groupby('route')['fare_amount'].std().sort_values(ascending=True)[:1]\n",
    "res"
   ]
  },
  {
   "cell_type": "code",
   "execution_count": 57,
   "metadata": {},
   "outputs": [
    {
     "name": "stdout",
     "output_type": "stream",
     "text": [
      "Pickup Address = 101, West 91st Street, Upper West Side, Manhattan Community Board 7, Manhattan, New York County, New York, 10025, United States\n",
      "Dropoff Address = 65, Terminal 2 Departures, Queens, Queens County, New York, 11430, United States\n"
     ]
    }
   ],
   "source": [
    "#Route pickup address\n",
    "pickup_addr = get_address(res.index[0].split(':')[0])\n",
    "print(f'Pickup Address = {pickup_addr}')\n",
    "\n",
    "#Route dropoff address\n",
    "drop_addr = get_address(res.index[0].split(':')[1])\n",
    "print(f'Dropoff Address = {drop_addr}')"
   ]
  }
 ],
 "metadata": {
  "kernelspec": {
   "display_name": "Python 3 (ipykernel)",
   "language": "python",
   "name": "python3"
  },
  "language_info": {
   "codemirror_mode": {
    "name": "ipython",
    "version": 3
   },
   "file_extension": ".py",
   "mimetype": "text/x-python",
   "name": "python",
   "nbconvert_exporter": "python",
   "pygments_lexer": "ipython3",
   "version": "3.7.3"
  }
 },
 "nbformat": 4,
 "nbformat_minor": 1
}
