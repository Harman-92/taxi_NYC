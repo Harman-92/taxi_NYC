{
 "cells": [
  {
   "cell_type": "code",
   "execution_count": 98,
   "id": "bd873b9c",
   "metadata": {},
   "outputs": [],
   "source": [
    "import pandas as pd\n",
    "import seaborn as sns\n",
    "import matplotlib.pyplot as plt\n",
    "import numpy as np\n",
    "import folium\n",
    "from sklearn.model_selection import train_test_split\n",
    "from sklearn.metrics import mean_squared_error, r2_score\n",
    "from sklearn.linear_model import LinearRegression\n",
    "import warnings\n",
    "warnings.filterwarnings('ignore')\n",
    "\n",
    "pd.set_option('display.max_colwidth',1000)\n",
    "pd.set_option('display.float_format', lambda x: '%.5f' % x)"
   ]
  },
  {
   "cell_type": "markdown",
   "id": "e7d234a6",
   "metadata": {},
   "source": [
    "# a. In what trips you can confidently use respective means as measures of central tendency to estimate fare, time taken.etc ?"
   ]
  },
  {
   "cell_type": "markdown",
   "id": "bfd48a4a",
   "metadata": {},
   "source": [
    "Trips that have a 'sufficient' sample size.\n",
    "\n",
    "If we assume, \n",
    "* Margin of Error = 5% \n",
    "* Confidence Interval = 95% => z-score = 1.96\n",
    "* Standard Deviation = 0.5(say)\n",
    "\n",
    "Thus, sample size = 385 \n",
    "\n",
    "So, in routes with more than 385 trips we can confidently use means as a measure of central tendency."
   ]
  },
  {
   "cell_type": "markdown",
   "id": "e3abb450",
   "metadata": {},
   "source": [
    "# b.\tCan we build a model to predict fare and tip amount given pick up and drop off coordinates, time of day and week?"
   ]
  },
  {
   "cell_type": "markdown",
   "id": "dd0590c2",
   "metadata": {},
   "source": [
    "Lets try to predict fare amount. We will first create a baseline model without any feature engineering. Then later on, we will create some features to improve upon this baseline."
   ]
  },
  {
   "cell_type": "code",
   "execution_count": 99,
   "id": "4b18246d",
   "metadata": {},
   "outputs": [
    {
     "name": "stdout",
     "output_type": "stream",
     "text": [
      "<class 'pandas.core.frame.DataFrame'>\n",
      "RangeIndex: 11308202 entries, 0 to 11308201\n",
      "Data columns (total 20 columns):\n",
      " #   Column             Dtype         \n",
      "---  ------             -----         \n",
      " 0   medallion          object        \n",
      " 1   hack_license       object        \n",
      " 2   vendor_id          object        \n",
      " 3   rate_code          int64         \n",
      " 4   pickup_datetime    datetime64[ns]\n",
      " 5   dropoff_datetime   datetime64[ns]\n",
      " 6   passenger_count    int64         \n",
      " 7   trip_time_in_secs  int64         \n",
      " 8   trip_distance      float64       \n",
      " 9   pickup_longitude   float64       \n",
      " 10  pickup_latitude    float64       \n",
      " 11  dropoff_longitude  float64       \n",
      " 12  dropoff_latitude   float64       \n",
      " 13  payment_type       object        \n",
      " 14  fare_amount        float64       \n",
      " 15  surcharge          float64       \n",
      " 16  mta_tax            float64       \n",
      " 17  tip_amount         float64       \n",
      " 18  tolls_amount       float64       \n",
      " 19  total_amount       float64       \n",
      "dtypes: datetime64[ns](2), float64(11), int64(3), object(4)\n",
      "memory usage: 1.7+ GB\n"
     ]
    }
   ],
   "source": [
    "trips = pd.read_csv('../data/trips.csv',parse_dates=['pickup_datetime','dropoff_datetime'])\n",
    "trips.info()"
   ]
  },
  {
   "cell_type": "code",
   "execution_count": 100,
   "id": "4bf304f2",
   "metadata": {},
   "outputs": [
    {
     "name": "stdout",
     "output_type": "stream",
     "text": [
      "Index(['pickup_datetime', 'pickup_longitude', 'pickup_latitude',\n",
      "       'dropoff_longitude', 'dropoff_latitude', 'fare_amount'],\n",
      "      dtype='object')\n"
     ]
    }
   ],
   "source": [
    "#Columns to keeps\n",
    "\n",
    "cols = ['pickup_datetime','pickup_longitude','pickup_latitude','dropoff_longitude','dropoff_latitude','fare_amount']\n",
    "trips = trips [cols]\n",
    "print(trips.columns)\n"
   ]
  },
  {
   "cell_type": "markdown",
   "id": "ca2886ea",
   "metadata": {},
   "source": [
    "# Baseline Model\n"
   ]
  },
  {
   "cell_type": "code",
   "execution_count": 101,
   "id": "5f69b262",
   "metadata": {},
   "outputs": [],
   "source": [
    "# Lets drop datetime as it cant be used as is\n",
    "dataset = trips.drop(columns=['pickup_datetime'])\n",
    "\n",
    "X = dataset.drop(columns=['fare_amount'])\n",
    "y = dataset[['fare_amount']]"
   ]
  },
  {
   "cell_type": "code",
   "execution_count": 102,
   "id": "a0e0fb1b",
   "metadata": {},
   "outputs": [
    {
     "name": "stdout",
     "output_type": "stream",
     "text": [
      "(9046561, 4)\n",
      "(2261641, 4)\n"
     ]
    }
   ],
   "source": [
    "# Test-Train Split\n",
    "X_train, X_test, y_train, y_test = train_test_split(X,y, test_size=0.2, random_state=42)\n",
    "print(X_train.shape)\n",
    "print(X_test.shape)"
   ]
  },
  {
   "cell_type": "code",
   "execution_count": 103,
   "id": "f0644901",
   "metadata": {},
   "outputs": [
    {
     "name": "stdout",
     "output_type": "stream",
     "text": [
      "RMSE : 7.038349533267527\n",
      "R2_SCORE : 0.44142784638695376\n"
     ]
    }
   ],
   "source": [
    "lin_reg = LinearRegression()\n",
    "lin_reg.fit(X_train,y_train)\n",
    "predictions = lin_reg.predict(X_test)\n",
    "\n",
    "print(f'RMSE : {mean_squared_error(y_test,predictions,squared=False)}')\n",
    "print(f'R2_SCORE : {r2_score(y_test,predictions)}')"
   ]
  },
  {
   "cell_type": "markdown",
   "id": "12b3cb46",
   "metadata": {},
   "source": [
    "Now, lets do some feature engineering and try to create a better model"
   ]
  },
  {
   "cell_type": "code",
   "execution_count": 104,
   "id": "eafd2089",
   "metadata": {
    "scrolled": true
   },
   "outputs": [
    {
     "data": {
      "text/html": [
       "<div>\n",
       "<style scoped>\n",
       "    .dataframe tbody tr th:only-of-type {\n",
       "        vertical-align: middle;\n",
       "    }\n",
       "\n",
       "    .dataframe tbody tr th {\n",
       "        vertical-align: top;\n",
       "    }\n",
       "\n",
       "    .dataframe thead th {\n",
       "        text-align: right;\n",
       "    }\n",
       "</style>\n",
       "<table border=\"1\" class=\"dataframe\">\n",
       "  <thead>\n",
       "    <tr style=\"text-align: right;\">\n",
       "      <th></th>\n",
       "      <th>pickup_datetime</th>\n",
       "      <th>pickup_longitude</th>\n",
       "      <th>pickup_latitude</th>\n",
       "      <th>dropoff_longitude</th>\n",
       "      <th>dropoff_latitude</th>\n",
       "      <th>fare_amount</th>\n",
       "      <th>distance</th>\n",
       "    </tr>\n",
       "  </thead>\n",
       "  <tbody>\n",
       "    <tr>\n",
       "      <th>0</th>\n",
       "      <td>2013-04-04 18:47:45</td>\n",
       "      <td>-73.95785</td>\n",
       "      <td>40.76532</td>\n",
       "      <td>-73.97627</td>\n",
       "      <td>40.78565</td>\n",
       "      <td>11.00000</td>\n",
       "      <td>2.74126</td>\n",
       "    </tr>\n",
       "    <tr>\n",
       "      <th>1</th>\n",
       "      <td>2013-04-04 18:12:01</td>\n",
       "      <td>-73.97812</td>\n",
       "      <td>40.76345</td>\n",
       "      <td>-73.95567</td>\n",
       "      <td>40.77664</td>\n",
       "      <td>10.00000</td>\n",
       "      <td>2.39303</td>\n",
       "    </tr>\n",
       "    <tr>\n",
       "      <th>2</th>\n",
       "      <td>2013-04-05 02:48:11</td>\n",
       "      <td>-73.98519</td>\n",
       "      <td>40.75493</td>\n",
       "      <td>-73.99078</td>\n",
       "      <td>40.74800</td>\n",
       "      <td>4.50000</td>\n",
       "      <td>0.90332</td>\n",
       "    </tr>\n",
       "    <tr>\n",
       "      <th>3</th>\n",
       "      <td>2013-04-05 06:16:10</td>\n",
       "      <td>-73.98517</td>\n",
       "      <td>40.76342</td>\n",
       "      <td>-73.97887</td>\n",
       "      <td>40.75114</td>\n",
       "      <td>6.50000</td>\n",
       "      <td>1.46457</td>\n",
       "    </tr>\n",
       "    <tr>\n",
       "      <th>4</th>\n",
       "      <td>2013-04-04 19:20:16</td>\n",
       "      <td>-73.97848</td>\n",
       "      <td>40.76123</td>\n",
       "      <td>-73.98457</td>\n",
       "      <td>40.75941</td>\n",
       "      <td>7.50000</td>\n",
       "      <td>0.55112</td>\n",
       "    </tr>\n",
       "  </tbody>\n",
       "</table>\n",
       "</div>"
      ],
      "text/plain": [
       "      pickup_datetime  pickup_longitude  pickup_latitude  dropoff_longitude  \\\n",
       "0 2013-04-04 18:47:45         -73.95785         40.76532          -73.97627   \n",
       "1 2013-04-04 18:12:01         -73.97812         40.76345          -73.95567   \n",
       "2 2013-04-05 02:48:11         -73.98519         40.75493          -73.99078   \n",
       "3 2013-04-05 06:16:10         -73.98517         40.76342          -73.97887   \n",
       "4 2013-04-04 19:20:16         -73.97848         40.76123          -73.98457   \n",
       "\n",
       "   dropoff_latitude  fare_amount  distance  \n",
       "0          40.78565     11.00000   2.74126  \n",
       "1          40.77664     10.00000   2.39303  \n",
       "2          40.74800      4.50000   0.90332  \n",
       "3          40.75114      6.50000   1.46457  \n",
       "4          40.75941      7.50000   0.55112  "
      ]
     },
     "execution_count": 104,
     "metadata": {},
     "output_type": "execute_result"
    }
   ],
   "source": [
    "# Calculate haversine distance given long,lat of two points\n",
    "\n",
    "def haversine(df):\n",
    "    \"\"\"\n",
    "    Calculate the great circle distance between two points \n",
    "    on the earth (specified in decimal degrees)\n",
    "    \"\"\"\n",
    "    lat1= np.radians(df[\"pickup_latitude\"])\n",
    "    lat2 = np.radians(df[\"dropoff_latitude\"])\n",
    "    \n",
    "    dlat = np.radians(df['dropoff_latitude']-df[\"pickup_latitude\"])\n",
    "    dlong = np.radians(df[\"dropoff_longitude\"]-df[\"pickup_longitude\"])\n",
    "    \n",
    "    a = np.sin(dlat/2)**2 + np.cos(lat1) * np.cos(lat2) * np.sin(dlong/2)**2\n",
    "\n",
    "    c = 2 * np.arctan2(np.sqrt(a), np.sqrt(1-a))\n",
    "    r = 6371 # Radius of earth in kilometers. Use 3956 for miles\n",
    "    return c * r\n",
    "\n",
    "trips['distance']=haversine(trips)\n",
    "trips.head()"
   ]
  },
  {
   "cell_type": "markdown",
   "id": "b41195c3",
   "metadata": {},
   "source": [
    "Now for datetime, lets create two features. \n",
    "\n",
    "1. Day_of_week - This tells which day of the week it is. 0 for Monday and 6 for Sunday. \n",
    "\n",
    "2. Hour - Hour of the day in 24hr format"
   ]
  },
  {
   "cell_type": "code",
   "execution_count": 105,
   "id": "4f977bbe",
   "metadata": {},
   "outputs": [
    {
     "data": {
      "text/html": [
       "<div>\n",
       "<style scoped>\n",
       "    .dataframe tbody tr th:only-of-type {\n",
       "        vertical-align: middle;\n",
       "    }\n",
       "\n",
       "    .dataframe tbody tr th {\n",
       "        vertical-align: top;\n",
       "    }\n",
       "\n",
       "    .dataframe thead th {\n",
       "        text-align: right;\n",
       "    }\n",
       "</style>\n",
       "<table border=\"1\" class=\"dataframe\">\n",
       "  <thead>\n",
       "    <tr style=\"text-align: right;\">\n",
       "      <th></th>\n",
       "      <th>pickup_datetime</th>\n",
       "      <th>pickup_longitude</th>\n",
       "      <th>pickup_latitude</th>\n",
       "      <th>dropoff_longitude</th>\n",
       "      <th>dropoff_latitude</th>\n",
       "      <th>fare_amount</th>\n",
       "      <th>distance</th>\n",
       "      <th>day_of_week</th>\n",
       "      <th>hour</th>\n",
       "    </tr>\n",
       "  </thead>\n",
       "  <tbody>\n",
       "    <tr>\n",
       "      <th>0</th>\n",
       "      <td>2013-04-04 18:47:45</td>\n",
       "      <td>-73.95785</td>\n",
       "      <td>40.76532</td>\n",
       "      <td>-73.97627</td>\n",
       "      <td>40.78565</td>\n",
       "      <td>11.00000</td>\n",
       "      <td>2.74126</td>\n",
       "      <td>3</td>\n",
       "      <td>18</td>\n",
       "    </tr>\n",
       "    <tr>\n",
       "      <th>1</th>\n",
       "      <td>2013-04-04 18:12:01</td>\n",
       "      <td>-73.97812</td>\n",
       "      <td>40.76345</td>\n",
       "      <td>-73.95567</td>\n",
       "      <td>40.77664</td>\n",
       "      <td>10.00000</td>\n",
       "      <td>2.39303</td>\n",
       "      <td>3</td>\n",
       "      <td>18</td>\n",
       "    </tr>\n",
       "    <tr>\n",
       "      <th>2</th>\n",
       "      <td>2013-04-05 02:48:11</td>\n",
       "      <td>-73.98519</td>\n",
       "      <td>40.75493</td>\n",
       "      <td>-73.99078</td>\n",
       "      <td>40.74800</td>\n",
       "      <td>4.50000</td>\n",
       "      <td>0.90332</td>\n",
       "      <td>4</td>\n",
       "      <td>2</td>\n",
       "    </tr>\n",
       "    <tr>\n",
       "      <th>3</th>\n",
       "      <td>2013-04-05 06:16:10</td>\n",
       "      <td>-73.98517</td>\n",
       "      <td>40.76342</td>\n",
       "      <td>-73.97887</td>\n",
       "      <td>40.75114</td>\n",
       "      <td>6.50000</td>\n",
       "      <td>1.46457</td>\n",
       "      <td>4</td>\n",
       "      <td>6</td>\n",
       "    </tr>\n",
       "    <tr>\n",
       "      <th>4</th>\n",
       "      <td>2013-04-04 19:20:16</td>\n",
       "      <td>-73.97848</td>\n",
       "      <td>40.76123</td>\n",
       "      <td>-73.98457</td>\n",
       "      <td>40.75941</td>\n",
       "      <td>7.50000</td>\n",
       "      <td>0.55112</td>\n",
       "      <td>3</td>\n",
       "      <td>19</td>\n",
       "    </tr>\n",
       "  </tbody>\n",
       "</table>\n",
       "</div>"
      ],
      "text/plain": [
       "      pickup_datetime  pickup_longitude  pickup_latitude  dropoff_longitude  \\\n",
       "0 2013-04-04 18:47:45         -73.95785         40.76532          -73.97627   \n",
       "1 2013-04-04 18:12:01         -73.97812         40.76345          -73.95567   \n",
       "2 2013-04-05 02:48:11         -73.98519         40.75493          -73.99078   \n",
       "3 2013-04-05 06:16:10         -73.98517         40.76342          -73.97887   \n",
       "4 2013-04-04 19:20:16         -73.97848         40.76123          -73.98457   \n",
       "\n",
       "   dropoff_latitude  fare_amount  distance  day_of_week  hour  \n",
       "0          40.78565     11.00000   2.74126            3    18  \n",
       "1          40.77664     10.00000   2.39303            3    18  \n",
       "2          40.74800      4.50000   0.90332            4     2  \n",
       "3          40.75114      6.50000   1.46457            4     6  \n",
       "4          40.75941      7.50000   0.55112            3    19  "
      ]
     },
     "execution_count": 105,
     "metadata": {},
     "output_type": "execute_result"
    }
   ],
   "source": [
    "trips['day_of_week'] = trips.pickup_datetime.dt.dayofweek\n",
    "trips['hour'] = trips.pickup_datetime.dt.hour\n",
    "\n",
    "trips.head()"
   ]
  },
  {
   "cell_type": "markdown",
   "id": "55a14433",
   "metadata": {},
   "source": [
    "# Linear Model"
   ]
  },
  {
   "cell_type": "code",
   "execution_count": 106,
   "id": "a45adddf",
   "metadata": {},
   "outputs": [],
   "source": [
    "X = trips[['day_of_week','hour','distance']]\n",
    "y = trips[['fare_amount']]"
   ]
  },
  {
   "cell_type": "code",
   "execution_count": 107,
   "id": "90410163",
   "metadata": {},
   "outputs": [
    {
     "name": "stdout",
     "output_type": "stream",
     "text": [
      "(9046561, 3)\n",
      "(2261641, 3)\n"
     ]
    }
   ],
   "source": [
    "# Test-Train Split\n",
    "X_train, X_test, y_train, y_test = train_test_split(X,y, test_size=0.2, random_state=42)\n",
    "print(X_train.shape)\n",
    "print(X_test.shape)"
   ]
  },
  {
   "cell_type": "code",
   "execution_count": 108,
   "id": "3cce3fd9",
   "metadata": {},
   "outputs": [
    {
     "name": "stdout",
     "output_type": "stream",
     "text": [
      "RMSE : 3.667858227251842\n",
      "R2_SCORE : 0.8483079917038522\n"
     ]
    }
   ],
   "source": [
    "lin_reg = LinearRegression()\n",
    "lin_reg.fit(X_train,y_train)\n",
    "predictions = lin_reg.predict(X_test)\n",
    "\n",
    "print(f'RMSE : {mean_squared_error(y_test,predictions,squared=False)}')\n",
    "print(f'R2_SCORE : {r2_score(y_test,predictions)}')"
   ]
  },
  {
   "cell_type": "markdown",
   "id": "a228384e",
   "metadata": {},
   "source": [
    "By creating some new features, we were able to improve upon our baseline model tremendously!\n",
    "\n",
    "We can further improve this score by trying out some other models such as decision trees and xgboost."
   ]
  },
  {
   "cell_type": "markdown",
   "id": "a5e436c6",
   "metadata": {},
   "source": [
    "# c.\tIf you were a taxi owner, how would you maximize your earnings in a day?"
   ]
  },
  {
   "cell_type": "markdown",
   "id": "0ced2a22",
   "metadata": {},
   "source": [
    "There are a lot of strategies one can consider to achieve this goal. I will take this a problem of finding the best routes with maximum total amount/trip_time. "
   ]
  },
  {
   "cell_type": "code",
   "execution_count": 109,
   "id": "5d7b9d9f",
   "metadata": {},
   "outputs": [
    {
     "name": "stdout",
     "output_type": "stream",
     "text": [
      "<class 'pandas.core.frame.DataFrame'>\n",
      "RangeIndex: 11308202 entries, 0 to 11308201\n",
      "Data columns (total 6 columns):\n",
      " #   Column             Dtype  \n",
      "---  ------             -----  \n",
      " 0   pickup_latitude    float64\n",
      " 1   pickup_longitude   float64\n",
      " 2   dropoff_latitude   float64\n",
      " 3   dropoff_longitude  float64\n",
      " 4   total_amount       float64\n",
      " 5   trip_time_in_secs  int64  \n",
      "dtypes: float64(5), int64(1)\n",
      "memory usage: 517.6 MB\n"
     ]
    }
   ],
   "source": [
    "trips = pd.read_csv('../data/trips.csv',parse_dates=['pickup_datetime','dropoff_datetime'])\n",
    "taxi_df = trips[['pickup_latitude','pickup_longitude','dropoff_latitude','dropoff_longitude','total_amount','trip_time_in_secs']]\n",
    "taxi_df.info()"
   ]
  },
  {
   "cell_type": "code",
   "execution_count": 110,
   "id": "d8f1671b",
   "metadata": {},
   "outputs": [
    {
     "data": {
      "text/html": [
       "<div>\n",
       "<style scoped>\n",
       "    .dataframe tbody tr th:only-of-type {\n",
       "        vertical-align: middle;\n",
       "    }\n",
       "\n",
       "    .dataframe tbody tr th {\n",
       "        vertical-align: top;\n",
       "    }\n",
       "\n",
       "    .dataframe thead th {\n",
       "        text-align: right;\n",
       "    }\n",
       "</style>\n",
       "<table border=\"1\" class=\"dataframe\">\n",
       "  <thead>\n",
       "    <tr style=\"text-align: right;\">\n",
       "      <th></th>\n",
       "      <th>total_amount</th>\n",
       "      <th>trip_time_in_secs</th>\n",
       "      <th>pickup_geocode</th>\n",
       "      <th>dropoff_geocode</th>\n",
       "      <th>route</th>\n",
       "    </tr>\n",
       "  </thead>\n",
       "  <tbody>\n",
       "    <tr>\n",
       "      <th>0</th>\n",
       "      <td>15.00000</td>\n",
       "      <td>759</td>\n",
       "      <td>40.77, -73.96</td>\n",
       "      <td>40.79, -73.98</td>\n",
       "      <td>40.77, -73.96 : 40.79, -73.98</td>\n",
       "    </tr>\n",
       "    <tr>\n",
       "      <th>1</th>\n",
       "      <td>14.95000</td>\n",
       "      <td>799</td>\n",
       "      <td>40.76, -73.98</td>\n",
       "      <td>40.78, -73.96</td>\n",
       "      <td>40.76, -73.98 : 40.78, -73.96</td>\n",
       "    </tr>\n",
       "    <tr>\n",
       "      <th>2</th>\n",
       "      <td>6.60000</td>\n",
       "      <td>189</td>\n",
       "      <td>40.75, -73.99</td>\n",
       "      <td>40.75, -73.99</td>\n",
       "      <td>40.75, -73.99 : 40.75, -73.99</td>\n",
       "    </tr>\n",
       "    <tr>\n",
       "      <th>3</th>\n",
       "      <td>8.00000</td>\n",
       "      <td>354</td>\n",
       "      <td>40.76, -73.99</td>\n",
       "      <td>40.75, -73.98</td>\n",
       "      <td>40.76, -73.99 : 40.75, -73.98</td>\n",
       "    </tr>\n",
       "    <tr>\n",
       "      <th>4</th>\n",
       "      <td>11.25000</td>\n",
       "      <td>635</td>\n",
       "      <td>40.76, -73.98</td>\n",
       "      <td>40.76, -73.98</td>\n",
       "      <td>40.76, -73.98 : 40.76, -73.98</td>\n",
       "    </tr>\n",
       "  </tbody>\n",
       "</table>\n",
       "</div>"
      ],
      "text/plain": [
       "   total_amount  trip_time_in_secs pickup_geocode dropoff_geocode  \\\n",
       "0      15.00000                759  40.77, -73.96   40.79, -73.98   \n",
       "1      14.95000                799  40.76, -73.98   40.78, -73.96   \n",
       "2       6.60000                189  40.75, -73.99   40.75, -73.99   \n",
       "3       8.00000                354  40.76, -73.99   40.75, -73.98   \n",
       "4      11.25000                635  40.76, -73.98   40.76, -73.98   \n",
       "\n",
       "                           route  \n",
       "0  40.77, -73.96 : 40.79, -73.98  \n",
       "1  40.76, -73.98 : 40.78, -73.96  \n",
       "2  40.75, -73.99 : 40.75, -73.99  \n",
       "3  40.76, -73.99 : 40.75, -73.98  \n",
       "4  40.76, -73.98 : 40.76, -73.98  "
      ]
     },
     "execution_count": 110,
     "metadata": {},
     "output_type": "execute_result"
    }
   ],
   "source": [
    "# Round off lat and long to two decimal places to get places at a more reasonable scale\n",
    "taxi_df['pickup_latitude'] = taxi_df.pickup_latitude.round(2)\n",
    "taxi_df['pickup_longitude'] = taxi_df.pickup_longitude.round(2)\n",
    "taxi_df['dropoff_latitude'] = taxi_df.dropoff_latitude.round(2)\n",
    "taxi_df['dropoff_longitude'] = taxi_df.dropoff_longitude.round(2)\n",
    "\n",
    "# Create lat,long pairs for pickup and dropoff\n",
    "taxi_df['pickup_geocode'] = taxi_df.pickup_latitude.astype(str) + ', ' + taxi_df.pickup_longitude.astype(str)\n",
    "taxi_df['dropoff_geocode'] = taxi_df.dropoff_latitude.astype(str) + ', ' + taxi_df.dropoff_longitude.astype(str)\n",
    "\n",
    "# Creating routes with a combination of pickup and dropoff codes\n",
    "taxi_df['route'] = taxi_df.pickup_geocode + ' : ' + taxi_df.dropoff_geocode\n",
    "\n",
    "# Filter out routes with less than 385 trips\n",
    "taxi_df = taxi_df.groupby('route').filter(lambda x: len(x) >= 385)\n",
    "\n",
    "# Drop columns\n",
    "taxi_df.drop(columns=['pickup_latitude','pickup_longitude','dropoff_latitude','dropoff_longitude'],inplace=True)\n",
    "\n",
    "taxi_df.head()"
   ]
  },
  {
   "cell_type": "code",
   "execution_count": 111,
   "id": "6e6634c8",
   "metadata": {},
   "outputs": [
    {
     "data": {
      "text/plain": [
       "count   10163486.00000\n",
       "mean          83.93872\n",
       "std          569.12722\n",
       "min            1.29310\n",
       "25%           57.96064\n",
       "50%           70.50000\n",
       "75%           88.42105\n",
       "max       249768.00000\n",
       "Name: amount_per_hour, dtype: float64"
      ]
     },
     "execution_count": 111,
     "metadata": {},
     "output_type": "execute_result"
    }
   ],
   "source": [
    "taxi_df['amount_per_hour'] = (taxi_df['total_amount']/taxi_df['trip_time_in_secs'])*3600\n",
    "\n",
    "taxi_df['amount_per_hour'].describe()"
   ]
  },
  {
   "cell_type": "code",
   "execution_count": 112,
   "id": "9771ba08",
   "metadata": {},
   "outputs": [
    {
     "name": "stdout",
     "output_type": "stream",
     "text": [
      "198.1651376146789\n"
     ]
    },
    {
     "data": {
      "text/html": [
       "<div>\n",
       "<style scoped>\n",
       "    .dataframe tbody tr th:only-of-type {\n",
       "        vertical-align: middle;\n",
       "    }\n",
       "\n",
       "    .dataframe tbody tr th {\n",
       "        vertical-align: top;\n",
       "    }\n",
       "\n",
       "    .dataframe thead th {\n",
       "        text-align: right;\n",
       "    }\n",
       "</style>\n",
       "<table border=\"1\" class=\"dataframe\">\n",
       "  <thead>\n",
       "    <tr style=\"text-align: right;\">\n",
       "      <th></th>\n",
       "      <th>total_amount</th>\n",
       "      <th>trip_time_in_secs</th>\n",
       "      <th>amount_per_hour</th>\n",
       "    </tr>\n",
       "  </thead>\n",
       "  <tbody>\n",
       "    <tr>\n",
       "      <th>count</th>\n",
       "      <td>10061775.00000</td>\n",
       "      <td>10061775.00000</td>\n",
       "      <td>10061775.00000</td>\n",
       "    </tr>\n",
       "    <tr>\n",
       "      <th>mean</th>\n",
       "      <td>12.78816</td>\n",
       "      <td>673.31872</td>\n",
       "      <td>75.94203</td>\n",
       "    </tr>\n",
       "    <tr>\n",
       "      <th>std</th>\n",
       "      <td>9.54137</td>\n",
       "      <td>490.39440</td>\n",
       "      <td>25.60083</td>\n",
       "    </tr>\n",
       "    <tr>\n",
       "      <th>min</th>\n",
       "      <td>2.50000</td>\n",
       "      <td>55.00000</td>\n",
       "      <td>1.29310</td>\n",
       "    </tr>\n",
       "    <tr>\n",
       "      <th>25%</th>\n",
       "      <td>7.50000</td>\n",
       "      <td>360.00000</td>\n",
       "      <td>57.82677</td>\n",
       "    </tr>\n",
       "    <tr>\n",
       "      <th>50%</th>\n",
       "      <td>10.10000</td>\n",
       "      <td>540.00000</td>\n",
       "      <td>70.03891</td>\n",
       "    </tr>\n",
       "    <tr>\n",
       "      <th>75%</th>\n",
       "      <td>14.00000</td>\n",
       "      <td>840.00000</td>\n",
       "      <td>87.33333</td>\n",
       "    </tr>\n",
       "    <tr>\n",
       "      <th>max</th>\n",
       "      <td>205.00000</td>\n",
       "      <td>10800.00000</td>\n",
       "      <td>198.11321</td>\n",
       "    </tr>\n",
       "  </tbody>\n",
       "</table>\n",
       "</div>"
      ],
      "text/plain": [
       "        total_amount  trip_time_in_secs  amount_per_hour\n",
       "count 10061775.00000     10061775.00000   10061775.00000\n",
       "mean        12.78816          673.31872         75.94203\n",
       "std          9.54137          490.39440         25.60083\n",
       "min          2.50000           55.00000          1.29310\n",
       "25%          7.50000          360.00000         57.82677\n",
       "50%         10.10000          540.00000         70.03891\n",
       "75%         14.00000          840.00000         87.33333\n",
       "max        205.00000        10800.00000        198.11321"
      ]
     },
     "execution_count": 112,
     "metadata": {},
     "output_type": "execute_result"
    }
   ],
   "source": [
    "# Remove upper 1% of points\n",
    "p_upper = np.percentile(taxi_df.amount_per_hour, 99.0)\n",
    "print(p_upper)\n",
    "\n",
    "taxi_df = taxi_df[taxi_df.amount_per_hour<p_upper]\n",
    "\n",
    "taxi_df.describe()"
   ]
  },
  {
   "cell_type": "code",
   "execution_count": 113,
   "id": "61158aeb",
   "metadata": {},
   "outputs": [
    {
     "data": {
      "text/plain": [
       "route\n",
       "40.77, -73.87 : 40.8, -73.94    131.04217\n",
       "40.78, -73.95 : 40.65, -73.78   130.55232\n",
       "40.78, -73.95 : 40.77, -73.87   129.75344\n",
       "40.78, -73.95 : 40.64, -73.79   124.17950\n",
       "40.78, -73.95 : 40.77, -73.86   124.13070\n",
       "40.77, -73.95 : 40.65, -73.78   124.03132\n",
       "40.77, -73.87 : 40.78, -73.95   123.34556\n",
       "40.77, -73.95 : 40.77, -73.87   122.91817\n",
       "40.74, -73.98 : 40.65, -73.78   122.82516\n",
       "40.65, -73.78 : 40.78, -73.95   122.64630\n",
       "Name: amount_per_hour, dtype: float64"
      ]
     },
     "execution_count": 113,
     "metadata": {},
     "output_type": "execute_result"
    }
   ],
   "source": [
    "# Top 10 highest earning routes per hour travel time\n",
    "top_routes = taxi_df.groupby(['route'])['amount_per_hour'].mean().sort_values(ascending=False).head(10)\n",
    "\n",
    "top_routes"
   ]
  },
  {
   "cell_type": "code",
   "execution_count": 114,
   "id": "da340206",
   "metadata": {},
   "outputs": [],
   "source": [
    "m=folium.Map(location=[40.730610, -73.935242],zoom_start = 11,tiles='cartodbpositron')\n",
    "colors = ['red', 'blue', 'green', 'purple', 'orange', 'beige',   'darkpurple', 'pink',  'gray', 'black']\n",
    "\n",
    "for col, route in zip(colors,top_routes.index):\n",
    "    \n",
    "    p_lat,p_long,d_lat,d_long = [float(v) for x in route.split(':') for v in x.split(',')]\n",
    "    folium.PolyLine([(p_lat,p_long),(d_lat,d_long)],\n",
    "                color=col,\n",
    "                weight=5,\n",
    "                opacity=0.8).add_to(m)"
   ]
  },
  {
   "cell_type": "code",
   "execution_count": 115,
   "id": "1f3e8e6d",
   "metadata": {},
   "outputs": [
    {
     "data": {
      "text/html": [
       "<div style=\"width:100%;\"><div style=\"position:relative;width:100%;height:0;padding-bottom:60%;\"><span style=\"color:#565656\">Make this Notebook Trusted to load map: File -> Trust Notebook</span><iframe src=\"about:blank\" style=\"position:absolute;width:100%;height:100%;left:0;top:0;border:none !important;\" data-html=%3C%21DOCTYPE%20html%3E%0A%3Chead%3E%20%20%20%20%0A%20%20%20%20%3Cmeta%20http-equiv%3D%22content-type%22%20content%3D%22text/html%3B%20charset%3DUTF-8%22%20/%3E%0A%20%20%20%20%0A%20%20%20%20%20%20%20%20%3Cscript%3E%0A%20%20%20%20%20%20%20%20%20%20%20%20L_NO_TOUCH%20%3D%20false%3B%0A%20%20%20%20%20%20%20%20%20%20%20%20L_DISABLE_3D%20%3D%20false%3B%0A%20%20%20%20%20%20%20%20%3C/script%3E%0A%20%20%20%20%0A%20%20%20%20%3Cstyle%3Ehtml%2C%20body%20%7Bwidth%3A%20100%25%3Bheight%3A%20100%25%3Bmargin%3A%200%3Bpadding%3A%200%3B%7D%3C/style%3E%0A%20%20%20%20%3Cstyle%3E%23map%20%7Bposition%3Aabsolute%3Btop%3A0%3Bbottom%3A0%3Bright%3A0%3Bleft%3A0%3B%7D%3C/style%3E%0A%20%20%20%20%3Cscript%20src%3D%22https%3A//cdn.jsdelivr.net/npm/leaflet%401.6.0/dist/leaflet.js%22%3E%3C/script%3E%0A%20%20%20%20%3Cscript%20src%3D%22https%3A//code.jquery.com/jquery-1.12.4.min.js%22%3E%3C/script%3E%0A%20%20%20%20%3Cscript%20src%3D%22https%3A//maxcdn.bootstrapcdn.com/bootstrap/3.2.0/js/bootstrap.min.js%22%3E%3C/script%3E%0A%20%20%20%20%3Cscript%20src%3D%22https%3A//cdnjs.cloudflare.com/ajax/libs/Leaflet.awesome-markers/2.0.2/leaflet.awesome-markers.js%22%3E%3C/script%3E%0A%20%20%20%20%3Clink%20rel%3D%22stylesheet%22%20href%3D%22https%3A//cdn.jsdelivr.net/npm/leaflet%401.6.0/dist/leaflet.css%22/%3E%0A%20%20%20%20%3Clink%20rel%3D%22stylesheet%22%20href%3D%22https%3A//maxcdn.bootstrapcdn.com/bootstrap/3.2.0/css/bootstrap.min.css%22/%3E%0A%20%20%20%20%3Clink%20rel%3D%22stylesheet%22%20href%3D%22https%3A//maxcdn.bootstrapcdn.com/bootstrap/3.2.0/css/bootstrap-theme.min.css%22/%3E%0A%20%20%20%20%3Clink%20rel%3D%22stylesheet%22%20href%3D%22https%3A//maxcdn.bootstrapcdn.com/font-awesome/4.6.3/css/font-awesome.min.css%22/%3E%0A%20%20%20%20%3Clink%20rel%3D%22stylesheet%22%20href%3D%22https%3A//cdnjs.cloudflare.com/ajax/libs/Leaflet.awesome-markers/2.0.2/leaflet.awesome-markers.css%22/%3E%0A%20%20%20%20%3Clink%20rel%3D%22stylesheet%22%20href%3D%22https%3A//cdn.jsdelivr.net/gh/python-visualization/folium/folium/templates/leaflet.awesome.rotate.min.css%22/%3E%0A%20%20%20%20%0A%20%20%20%20%20%20%20%20%20%20%20%20%3Cmeta%20name%3D%22viewport%22%20content%3D%22width%3Ddevice-width%2C%0A%20%20%20%20%20%20%20%20%20%20%20%20%20%20%20%20initial-scale%3D1.0%2C%20maximum-scale%3D1.0%2C%20user-scalable%3Dno%22%20/%3E%0A%20%20%20%20%20%20%20%20%20%20%20%20%3Cstyle%3E%0A%20%20%20%20%20%20%20%20%20%20%20%20%20%20%20%20%23map_936f74e982574d63bc5cdb552a7070e0%20%7B%0A%20%20%20%20%20%20%20%20%20%20%20%20%20%20%20%20%20%20%20%20position%3A%20relative%3B%0A%20%20%20%20%20%20%20%20%20%20%20%20%20%20%20%20%20%20%20%20width%3A%20100.0%25%3B%0A%20%20%20%20%20%20%20%20%20%20%20%20%20%20%20%20%20%20%20%20height%3A%20100.0%25%3B%0A%20%20%20%20%20%20%20%20%20%20%20%20%20%20%20%20%20%20%20%20left%3A%200.0%25%3B%0A%20%20%20%20%20%20%20%20%20%20%20%20%20%20%20%20%20%20%20%20top%3A%200.0%25%3B%0A%20%20%20%20%20%20%20%20%20%20%20%20%20%20%20%20%7D%0A%20%20%20%20%20%20%20%20%20%20%20%20%3C/style%3E%0A%20%20%20%20%20%20%20%20%0A%3C/head%3E%0A%3Cbody%3E%20%20%20%20%0A%20%20%20%20%0A%20%20%20%20%20%20%20%20%20%20%20%20%3Cdiv%20class%3D%22folium-map%22%20id%3D%22map_936f74e982574d63bc5cdb552a7070e0%22%20%3E%3C/div%3E%0A%20%20%20%20%20%20%20%20%0A%3C/body%3E%0A%3Cscript%3E%20%20%20%20%0A%20%20%20%20%0A%20%20%20%20%20%20%20%20%20%20%20%20var%20map_936f74e982574d63bc5cdb552a7070e0%20%3D%20L.map%28%0A%20%20%20%20%20%20%20%20%20%20%20%20%20%20%20%20%22map_936f74e982574d63bc5cdb552a7070e0%22%2C%0A%20%20%20%20%20%20%20%20%20%20%20%20%20%20%20%20%7B%0A%20%20%20%20%20%20%20%20%20%20%20%20%20%20%20%20%20%20%20%20center%3A%20%5B40.73061%2C%20-73.935242%5D%2C%0A%20%20%20%20%20%20%20%20%20%20%20%20%20%20%20%20%20%20%20%20crs%3A%20L.CRS.EPSG3857%2C%0A%20%20%20%20%20%20%20%20%20%20%20%20%20%20%20%20%20%20%20%20zoom%3A%2011%2C%0A%20%20%20%20%20%20%20%20%20%20%20%20%20%20%20%20%20%20%20%20zoomControl%3A%20true%2C%0A%20%20%20%20%20%20%20%20%20%20%20%20%20%20%20%20%20%20%20%20preferCanvas%3A%20false%2C%0A%20%20%20%20%20%20%20%20%20%20%20%20%20%20%20%20%7D%0A%20%20%20%20%20%20%20%20%20%20%20%20%29%3B%0A%0A%20%20%20%20%20%20%20%20%20%20%20%20%0A%0A%20%20%20%20%20%20%20%20%0A%20%20%20%20%0A%20%20%20%20%20%20%20%20%20%20%20%20var%20tile_layer_855ac7cf2c0c43aebc478356f03851eb%20%3D%20L.tileLayer%28%0A%20%20%20%20%20%20%20%20%20%20%20%20%20%20%20%20%22https%3A//cartodb-basemaps-%7Bs%7D.global.ssl.fastly.net/light_all/%7Bz%7D/%7Bx%7D/%7By%7D.png%22%2C%0A%20%20%20%20%20%20%20%20%20%20%20%20%20%20%20%20%7B%22attribution%22%3A%20%22%5Cu0026copy%3B%20%5Cu003ca%20href%3D%5C%22http%3A//www.openstreetmap.org/copyright%5C%22%5Cu003eOpenStreetMap%5Cu003c/a%5Cu003e%20contributors%20%5Cu0026copy%3B%20%5Cu003ca%20href%3D%5C%22http%3A//cartodb.com/attributions%5C%22%5Cu003eCartoDB%5Cu003c/a%5Cu003e%2C%20CartoDB%20%5Cu003ca%20href%20%3D%5C%22http%3A//cartodb.com/attributions%5C%22%5Cu003eattributions%5Cu003c/a%5Cu003e%22%2C%20%22detectRetina%22%3A%20false%2C%20%22maxNativeZoom%22%3A%2018%2C%20%22maxZoom%22%3A%2018%2C%20%22minZoom%22%3A%200%2C%20%22noWrap%22%3A%20false%2C%20%22opacity%22%3A%201%2C%20%22subdomains%22%3A%20%22abc%22%2C%20%22tms%22%3A%20false%7D%0A%20%20%20%20%20%20%20%20%20%20%20%20%29.addTo%28map_936f74e982574d63bc5cdb552a7070e0%29%3B%0A%20%20%20%20%20%20%20%20%0A%20%20%20%20%0A%20%20%20%20%20%20%20%20%20%20%20%20var%20poly_line_e1930662f8e14b5cab1217dcc7657238%20%3D%20L.polyline%28%0A%20%20%20%20%20%20%20%20%20%20%20%20%20%20%20%20%5B%5B40.77%2C%20-73.87%5D%2C%20%5B40.8%2C%20-73.94%5D%5D%2C%0A%20%20%20%20%20%20%20%20%20%20%20%20%20%20%20%20%7B%22bubblingMouseEvents%22%3A%20true%2C%20%22color%22%3A%20%22red%22%2C%20%22dashArray%22%3A%20null%2C%20%22dashOffset%22%3A%20null%2C%20%22fill%22%3A%20false%2C%20%22fillColor%22%3A%20%22red%22%2C%20%22fillOpacity%22%3A%200.2%2C%20%22fillRule%22%3A%20%22evenodd%22%2C%20%22lineCap%22%3A%20%22round%22%2C%20%22lineJoin%22%3A%20%22round%22%2C%20%22noClip%22%3A%20false%2C%20%22opacity%22%3A%200.8%2C%20%22smoothFactor%22%3A%201.0%2C%20%22stroke%22%3A%20true%2C%20%22weight%22%3A%205%7D%0A%20%20%20%20%20%20%20%20%20%20%20%20%29.addTo%28map_936f74e982574d63bc5cdb552a7070e0%29%3B%0A%20%20%20%20%20%20%20%20%0A%20%20%20%20%0A%20%20%20%20%20%20%20%20%20%20%20%20var%20poly_line_25f557af149746389b928a61d28ccccc%20%3D%20L.polyline%28%0A%20%20%20%20%20%20%20%20%20%20%20%20%20%20%20%20%5B%5B40.78%2C%20-73.95%5D%2C%20%5B40.65%2C%20-73.78%5D%5D%2C%0A%20%20%20%20%20%20%20%20%20%20%20%20%20%20%20%20%7B%22bubblingMouseEvents%22%3A%20true%2C%20%22color%22%3A%20%22blue%22%2C%20%22dashArray%22%3A%20null%2C%20%22dashOffset%22%3A%20null%2C%20%22fill%22%3A%20false%2C%20%22fillColor%22%3A%20%22blue%22%2C%20%22fillOpacity%22%3A%200.2%2C%20%22fillRule%22%3A%20%22evenodd%22%2C%20%22lineCap%22%3A%20%22round%22%2C%20%22lineJoin%22%3A%20%22round%22%2C%20%22noClip%22%3A%20false%2C%20%22opacity%22%3A%200.8%2C%20%22smoothFactor%22%3A%201.0%2C%20%22stroke%22%3A%20true%2C%20%22weight%22%3A%205%7D%0A%20%20%20%20%20%20%20%20%20%20%20%20%29.addTo%28map_936f74e982574d63bc5cdb552a7070e0%29%3B%0A%20%20%20%20%20%20%20%20%0A%20%20%20%20%0A%20%20%20%20%20%20%20%20%20%20%20%20var%20poly_line_18be9a315d2d4a93ae797f624983b518%20%3D%20L.polyline%28%0A%20%20%20%20%20%20%20%20%20%20%20%20%20%20%20%20%5B%5B40.78%2C%20-73.95%5D%2C%20%5B40.77%2C%20-73.87%5D%5D%2C%0A%20%20%20%20%20%20%20%20%20%20%20%20%20%20%20%20%7B%22bubblingMouseEvents%22%3A%20true%2C%20%22color%22%3A%20%22green%22%2C%20%22dashArray%22%3A%20null%2C%20%22dashOffset%22%3A%20null%2C%20%22fill%22%3A%20false%2C%20%22fillColor%22%3A%20%22green%22%2C%20%22fillOpacity%22%3A%200.2%2C%20%22fillRule%22%3A%20%22evenodd%22%2C%20%22lineCap%22%3A%20%22round%22%2C%20%22lineJoin%22%3A%20%22round%22%2C%20%22noClip%22%3A%20false%2C%20%22opacity%22%3A%200.8%2C%20%22smoothFactor%22%3A%201.0%2C%20%22stroke%22%3A%20true%2C%20%22weight%22%3A%205%7D%0A%20%20%20%20%20%20%20%20%20%20%20%20%29.addTo%28map_936f74e982574d63bc5cdb552a7070e0%29%3B%0A%20%20%20%20%20%20%20%20%0A%20%20%20%20%0A%20%20%20%20%20%20%20%20%20%20%20%20var%20poly_line_d5cfc1c119b54686952942e3deebeb43%20%3D%20L.polyline%28%0A%20%20%20%20%20%20%20%20%20%20%20%20%20%20%20%20%5B%5B40.78%2C%20-73.95%5D%2C%20%5B40.64%2C%20-73.79%5D%5D%2C%0A%20%20%20%20%20%20%20%20%20%20%20%20%20%20%20%20%7B%22bubblingMouseEvents%22%3A%20true%2C%20%22color%22%3A%20%22purple%22%2C%20%22dashArray%22%3A%20null%2C%20%22dashOffset%22%3A%20null%2C%20%22fill%22%3A%20false%2C%20%22fillColor%22%3A%20%22purple%22%2C%20%22fillOpacity%22%3A%200.2%2C%20%22fillRule%22%3A%20%22evenodd%22%2C%20%22lineCap%22%3A%20%22round%22%2C%20%22lineJoin%22%3A%20%22round%22%2C%20%22noClip%22%3A%20false%2C%20%22opacity%22%3A%200.8%2C%20%22smoothFactor%22%3A%201.0%2C%20%22stroke%22%3A%20true%2C%20%22weight%22%3A%205%7D%0A%20%20%20%20%20%20%20%20%20%20%20%20%29.addTo%28map_936f74e982574d63bc5cdb552a7070e0%29%3B%0A%20%20%20%20%20%20%20%20%0A%20%20%20%20%0A%20%20%20%20%20%20%20%20%20%20%20%20var%20poly_line_c6afabb4020b4848ac09a3327d1bc279%20%3D%20L.polyline%28%0A%20%20%20%20%20%20%20%20%20%20%20%20%20%20%20%20%5B%5B40.78%2C%20-73.95%5D%2C%20%5B40.77%2C%20-73.86%5D%5D%2C%0A%20%20%20%20%20%20%20%20%20%20%20%20%20%20%20%20%7B%22bubblingMouseEvents%22%3A%20true%2C%20%22color%22%3A%20%22orange%22%2C%20%22dashArray%22%3A%20null%2C%20%22dashOffset%22%3A%20null%2C%20%22fill%22%3A%20false%2C%20%22fillColor%22%3A%20%22orange%22%2C%20%22fillOpacity%22%3A%200.2%2C%20%22fillRule%22%3A%20%22evenodd%22%2C%20%22lineCap%22%3A%20%22round%22%2C%20%22lineJoin%22%3A%20%22round%22%2C%20%22noClip%22%3A%20false%2C%20%22opacity%22%3A%200.8%2C%20%22smoothFactor%22%3A%201.0%2C%20%22stroke%22%3A%20true%2C%20%22weight%22%3A%205%7D%0A%20%20%20%20%20%20%20%20%20%20%20%20%29.addTo%28map_936f74e982574d63bc5cdb552a7070e0%29%3B%0A%20%20%20%20%20%20%20%20%0A%20%20%20%20%0A%20%20%20%20%20%20%20%20%20%20%20%20var%20poly_line_e5980562ddbd48be9ccfb6e3866dbbbe%20%3D%20L.polyline%28%0A%20%20%20%20%20%20%20%20%20%20%20%20%20%20%20%20%5B%5B40.77%2C%20-73.95%5D%2C%20%5B40.65%2C%20-73.78%5D%5D%2C%0A%20%20%20%20%20%20%20%20%20%20%20%20%20%20%20%20%7B%22bubblingMouseEvents%22%3A%20true%2C%20%22color%22%3A%20%22beige%22%2C%20%22dashArray%22%3A%20null%2C%20%22dashOffset%22%3A%20null%2C%20%22fill%22%3A%20false%2C%20%22fillColor%22%3A%20%22beige%22%2C%20%22fillOpacity%22%3A%200.2%2C%20%22fillRule%22%3A%20%22evenodd%22%2C%20%22lineCap%22%3A%20%22round%22%2C%20%22lineJoin%22%3A%20%22round%22%2C%20%22noClip%22%3A%20false%2C%20%22opacity%22%3A%200.8%2C%20%22smoothFactor%22%3A%201.0%2C%20%22stroke%22%3A%20true%2C%20%22weight%22%3A%205%7D%0A%20%20%20%20%20%20%20%20%20%20%20%20%29.addTo%28map_936f74e982574d63bc5cdb552a7070e0%29%3B%0A%20%20%20%20%20%20%20%20%0A%20%20%20%20%0A%20%20%20%20%20%20%20%20%20%20%20%20var%20poly_line_94d8acb6e6554ce9945df95c7280ae33%20%3D%20L.polyline%28%0A%20%20%20%20%20%20%20%20%20%20%20%20%20%20%20%20%5B%5B40.77%2C%20-73.87%5D%2C%20%5B40.78%2C%20-73.95%5D%5D%2C%0A%20%20%20%20%20%20%20%20%20%20%20%20%20%20%20%20%7B%22bubblingMouseEvents%22%3A%20true%2C%20%22color%22%3A%20%22darkpurple%22%2C%20%22dashArray%22%3A%20null%2C%20%22dashOffset%22%3A%20null%2C%20%22fill%22%3A%20false%2C%20%22fillColor%22%3A%20%22darkpurple%22%2C%20%22fillOpacity%22%3A%200.2%2C%20%22fillRule%22%3A%20%22evenodd%22%2C%20%22lineCap%22%3A%20%22round%22%2C%20%22lineJoin%22%3A%20%22round%22%2C%20%22noClip%22%3A%20false%2C%20%22opacity%22%3A%200.8%2C%20%22smoothFactor%22%3A%201.0%2C%20%22stroke%22%3A%20true%2C%20%22weight%22%3A%205%7D%0A%20%20%20%20%20%20%20%20%20%20%20%20%29.addTo%28map_936f74e982574d63bc5cdb552a7070e0%29%3B%0A%20%20%20%20%20%20%20%20%0A%20%20%20%20%0A%20%20%20%20%20%20%20%20%20%20%20%20var%20poly_line_276207299b2e4e43a92a95ab1d5652de%20%3D%20L.polyline%28%0A%20%20%20%20%20%20%20%20%20%20%20%20%20%20%20%20%5B%5B40.77%2C%20-73.95%5D%2C%20%5B40.77%2C%20-73.87%5D%5D%2C%0A%20%20%20%20%20%20%20%20%20%20%20%20%20%20%20%20%7B%22bubblingMouseEvents%22%3A%20true%2C%20%22color%22%3A%20%22pink%22%2C%20%22dashArray%22%3A%20null%2C%20%22dashOffset%22%3A%20null%2C%20%22fill%22%3A%20false%2C%20%22fillColor%22%3A%20%22pink%22%2C%20%22fillOpacity%22%3A%200.2%2C%20%22fillRule%22%3A%20%22evenodd%22%2C%20%22lineCap%22%3A%20%22round%22%2C%20%22lineJoin%22%3A%20%22round%22%2C%20%22noClip%22%3A%20false%2C%20%22opacity%22%3A%200.8%2C%20%22smoothFactor%22%3A%201.0%2C%20%22stroke%22%3A%20true%2C%20%22weight%22%3A%205%7D%0A%20%20%20%20%20%20%20%20%20%20%20%20%29.addTo%28map_936f74e982574d63bc5cdb552a7070e0%29%3B%0A%20%20%20%20%20%20%20%20%0A%20%20%20%20%0A%20%20%20%20%20%20%20%20%20%20%20%20var%20poly_line_85e34727ea914ca2b552c232e1f9fff9%20%3D%20L.polyline%28%0A%20%20%20%20%20%20%20%20%20%20%20%20%20%20%20%20%5B%5B40.74%2C%20-73.98%5D%2C%20%5B40.65%2C%20-73.78%5D%5D%2C%0A%20%20%20%20%20%20%20%20%20%20%20%20%20%20%20%20%7B%22bubblingMouseEvents%22%3A%20true%2C%20%22color%22%3A%20%22gray%22%2C%20%22dashArray%22%3A%20null%2C%20%22dashOffset%22%3A%20null%2C%20%22fill%22%3A%20false%2C%20%22fillColor%22%3A%20%22gray%22%2C%20%22fillOpacity%22%3A%200.2%2C%20%22fillRule%22%3A%20%22evenodd%22%2C%20%22lineCap%22%3A%20%22round%22%2C%20%22lineJoin%22%3A%20%22round%22%2C%20%22noClip%22%3A%20false%2C%20%22opacity%22%3A%200.8%2C%20%22smoothFactor%22%3A%201.0%2C%20%22stroke%22%3A%20true%2C%20%22weight%22%3A%205%7D%0A%20%20%20%20%20%20%20%20%20%20%20%20%29.addTo%28map_936f74e982574d63bc5cdb552a7070e0%29%3B%0A%20%20%20%20%20%20%20%20%0A%20%20%20%20%0A%20%20%20%20%20%20%20%20%20%20%20%20var%20poly_line_8587ba723f64459d96146c9577bd2054%20%3D%20L.polyline%28%0A%20%20%20%20%20%20%20%20%20%20%20%20%20%20%20%20%5B%5B40.65%2C%20-73.78%5D%2C%20%5B40.78%2C%20-73.95%5D%5D%2C%0A%20%20%20%20%20%20%20%20%20%20%20%20%20%20%20%20%7B%22bubblingMouseEvents%22%3A%20true%2C%20%22color%22%3A%20%22black%22%2C%20%22dashArray%22%3A%20null%2C%20%22dashOffset%22%3A%20null%2C%20%22fill%22%3A%20false%2C%20%22fillColor%22%3A%20%22black%22%2C%20%22fillOpacity%22%3A%200.2%2C%20%22fillRule%22%3A%20%22evenodd%22%2C%20%22lineCap%22%3A%20%22round%22%2C%20%22lineJoin%22%3A%20%22round%22%2C%20%22noClip%22%3A%20false%2C%20%22opacity%22%3A%200.8%2C%20%22smoothFactor%22%3A%201.0%2C%20%22stroke%22%3A%20true%2C%20%22weight%22%3A%205%7D%0A%20%20%20%20%20%20%20%20%20%20%20%20%29.addTo%28map_936f74e982574d63bc5cdb552a7070e0%29%3B%0A%20%20%20%20%20%20%20%20%0A%3C/script%3E onload=\"this.contentDocument.open();this.contentDocument.write(    decodeURIComponent(this.getAttribute('data-html')));this.contentDocument.close();\" allowfullscreen webkitallowfullscreen mozallowfullscreen></iframe></div></div>"
      ],
      "text/plain": [
       "<folium.folium.Map at 0x24409973c18>"
      ]
     },
     "execution_count": 115,
     "metadata": {},
     "output_type": "execute_result"
    }
   ],
   "source": [
    "m"
   ]
  },
  {
   "cell_type": "markdown",
   "id": "ba95fa0c",
   "metadata": {},
   "source": [
    "# d.\tIf you were a taxi owner, how would you minimize your work time while retaining the average wages earned by a typical taxi in the dataset?"
   ]
  },
  {
   "cell_type": "markdown",
   "id": "97fd4c04",
   "metadata": {},
   "source": [
    "Lets calculate how much a taxi driver earns in a day."
   ]
  },
  {
   "cell_type": "code",
   "execution_count": 116,
   "id": "09429492",
   "metadata": {},
   "outputs": [
    {
     "name": "stdout",
     "output_type": "stream",
     "text": [
      "224.76432068769833\n"
     ]
    }
   ],
   "source": [
    "taxi = trips[['hack_license','pickup_datetime','total_amount']]\n",
    "taxi['date'] = taxi.pickup_datetime.dt.date\n",
    "taxi.drop(columns=['pickup_datetime'],inplace=True)\n",
    "\n",
    "# What is the average daily earnings of a taxi driver?\n",
    "print(taxi.groupby(['hack_license', 'date'])['total_amount'].sum().mean())"
   ]
  },
  {
   "cell_type": "code",
   "execution_count": 117,
   "id": "4eadde17",
   "metadata": {},
   "outputs": [],
   "source": [
    "#This our goal to reach\n",
    "target = 225.0"
   ]
  },
  {
   "cell_type": "markdown",
   "id": "2b548e27",
   "metadata": {},
   "source": [
    "Lets use the dataframe from the last question."
   ]
  },
  {
   "cell_type": "code",
   "execution_count": 118,
   "id": "2012b09a",
   "metadata": {},
   "outputs": [
    {
     "data": {
      "text/html": [
       "<div>\n",
       "<style scoped>\n",
       "    .dataframe tbody tr th:only-of-type {\n",
       "        vertical-align: middle;\n",
       "    }\n",
       "\n",
       "    .dataframe tbody tr th {\n",
       "        vertical-align: top;\n",
       "    }\n",
       "\n",
       "    .dataframe thead th {\n",
       "        text-align: right;\n",
       "    }\n",
       "</style>\n",
       "<table border=\"1\" class=\"dataframe\">\n",
       "  <thead>\n",
       "    <tr style=\"text-align: right;\">\n",
       "      <th></th>\n",
       "      <th>total_amount</th>\n",
       "      <th>trip_time_in_secs</th>\n",
       "      <th>pickup_geocode</th>\n",
       "      <th>dropoff_geocode</th>\n",
       "      <th>route</th>\n",
       "      <th>amount_per_hour</th>\n",
       "    </tr>\n",
       "  </thead>\n",
       "  <tbody>\n",
       "    <tr>\n",
       "      <th>0</th>\n",
       "      <td>15.00000</td>\n",
       "      <td>759</td>\n",
       "      <td>40.77, -73.96</td>\n",
       "      <td>40.79, -73.98</td>\n",
       "      <td>40.77, -73.96 : 40.79, -73.98</td>\n",
       "      <td>71.14625</td>\n",
       "    </tr>\n",
       "    <tr>\n",
       "      <th>1</th>\n",
       "      <td>14.95000</td>\n",
       "      <td>799</td>\n",
       "      <td>40.76, -73.98</td>\n",
       "      <td>40.78, -73.96</td>\n",
       "      <td>40.76, -73.98 : 40.78, -73.96</td>\n",
       "      <td>67.35920</td>\n",
       "    </tr>\n",
       "    <tr>\n",
       "      <th>2</th>\n",
       "      <td>6.60000</td>\n",
       "      <td>189</td>\n",
       "      <td>40.75, -73.99</td>\n",
       "      <td>40.75, -73.99</td>\n",
       "      <td>40.75, -73.99 : 40.75, -73.99</td>\n",
       "      <td>125.71429</td>\n",
       "    </tr>\n",
       "    <tr>\n",
       "      <th>3</th>\n",
       "      <td>8.00000</td>\n",
       "      <td>354</td>\n",
       "      <td>40.76, -73.99</td>\n",
       "      <td>40.75, -73.98</td>\n",
       "      <td>40.76, -73.99 : 40.75, -73.98</td>\n",
       "      <td>81.35593</td>\n",
       "    </tr>\n",
       "    <tr>\n",
       "      <th>4</th>\n",
       "      <td>11.25000</td>\n",
       "      <td>635</td>\n",
       "      <td>40.76, -73.98</td>\n",
       "      <td>40.76, -73.98</td>\n",
       "      <td>40.76, -73.98 : 40.76, -73.98</td>\n",
       "      <td>63.77953</td>\n",
       "    </tr>\n",
       "  </tbody>\n",
       "</table>\n",
       "</div>"
      ],
      "text/plain": [
       "   total_amount  trip_time_in_secs pickup_geocode dropoff_geocode  \\\n",
       "0      15.00000                759  40.77, -73.96   40.79, -73.98   \n",
       "1      14.95000                799  40.76, -73.98   40.78, -73.96   \n",
       "2       6.60000                189  40.75, -73.99   40.75, -73.99   \n",
       "3       8.00000                354  40.76, -73.99   40.75, -73.98   \n",
       "4      11.25000                635  40.76, -73.98   40.76, -73.98   \n",
       "\n",
       "                           route  amount_per_hour  \n",
       "0  40.77, -73.96 : 40.79, -73.98         71.14625  \n",
       "1  40.76, -73.98 : 40.78, -73.96         67.35920  \n",
       "2  40.75, -73.99 : 40.75, -73.99        125.71429  \n",
       "3  40.76, -73.99 : 40.75, -73.98         81.35593  \n",
       "4  40.76, -73.98 : 40.76, -73.98         63.77953  "
      ]
     },
     "execution_count": 118,
     "metadata": {},
     "output_type": "execute_result"
    }
   ],
   "source": [
    "taxi_df.head()"
   ]
  },
  {
   "cell_type": "code",
   "execution_count": 119,
   "id": "daf38620",
   "metadata": {},
   "outputs": [
    {
     "data": {
      "text/html": [
       "<div>\n",
       "<style scoped>\n",
       "    .dataframe tbody tr th:only-of-type {\n",
       "        vertical-align: middle;\n",
       "    }\n",
       "\n",
       "    .dataframe tbody tr th {\n",
       "        vertical-align: top;\n",
       "    }\n",
       "\n",
       "    .dataframe thead th {\n",
       "        text-align: right;\n",
       "    }\n",
       "</style>\n",
       "<table border=\"1\" class=\"dataframe\">\n",
       "  <thead>\n",
       "    <tr style=\"text-align: right;\">\n",
       "      <th></th>\n",
       "      <th>amount_per_hour</th>\n",
       "    </tr>\n",
       "    <tr>\n",
       "      <th>route</th>\n",
       "      <th></th>\n",
       "    </tr>\n",
       "  </thead>\n",
       "  <tbody>\n",
       "    <tr>\n",
       "      <th>40.64, -73.78 : 40.64, -73.78</th>\n",
       "      <td>95.62308</td>\n",
       "    </tr>\n",
       "    <tr>\n",
       "      <th>40.64, -73.78 : 40.72, -73.99</th>\n",
       "      <td>99.21515</td>\n",
       "    </tr>\n",
       "    <tr>\n",
       "      <th>40.64, -73.78 : 40.73, -73.99</th>\n",
       "      <td>103.22144</td>\n",
       "    </tr>\n",
       "    <tr>\n",
       "      <th>40.64, -73.78 : 40.74, -73.98</th>\n",
       "      <td>113.38869</td>\n",
       "    </tr>\n",
       "    <tr>\n",
       "      <th>40.64, -73.78 : 40.74, -73.99</th>\n",
       "      <td>98.71940</td>\n",
       "    </tr>\n",
       "    <tr>\n",
       "      <th>...</th>\n",
       "      <td>...</td>\n",
       "    </tr>\n",
       "    <tr>\n",
       "      <th>40.83, -73.95 : 40.82, -73.95</th>\n",
       "      <td>108.70832</td>\n",
       "    </tr>\n",
       "    <tr>\n",
       "      <th>40.84, -73.94 : 40.78, -73.98</th>\n",
       "      <td>88.20658</td>\n",
       "    </tr>\n",
       "    <tr>\n",
       "      <th>40.84, -73.94 : 40.81, -73.96</th>\n",
       "      <td>75.82530</td>\n",
       "    </tr>\n",
       "    <tr>\n",
       "      <th>40.84, -73.94 : 40.85, -73.94</th>\n",
       "      <td>93.99546</td>\n",
       "    </tr>\n",
       "    <tr>\n",
       "      <th>40.85, -73.94 : 40.84, -73.94</th>\n",
       "      <td>97.81801</td>\n",
       "    </tr>\n",
       "  </tbody>\n",
       "</table>\n",
       "<p>2535 rows × 1 columns</p>\n",
       "</div>"
      ],
      "text/plain": [
       "                               amount_per_hour\n",
       "route                                         \n",
       "40.64, -73.78 : 40.64, -73.78         95.62308\n",
       "40.64, -73.78 : 40.72, -73.99         99.21515\n",
       "40.64, -73.78 : 40.73, -73.99        103.22144\n",
       "40.64, -73.78 : 40.74, -73.98        113.38869\n",
       "40.64, -73.78 : 40.74, -73.99         98.71940\n",
       "...                                        ...\n",
       "40.83, -73.95 : 40.82, -73.95        108.70832\n",
       "40.84, -73.94 : 40.78, -73.98         88.20658\n",
       "40.84, -73.94 : 40.81, -73.96         75.82530\n",
       "40.84, -73.94 : 40.85, -73.94         93.99546\n",
       "40.85, -73.94 : 40.84, -73.94         97.81801\n",
       "\n",
       "[2535 rows x 1 columns]"
      ]
     },
     "execution_count": 119,
     "metadata": {},
     "output_type": "execute_result"
    }
   ],
   "source": [
    "min_time = taxi_df.groupby(['route']).agg({'amount_per_hour':np.mean})\n",
    "min_time"
   ]
  },
  {
   "cell_type": "code",
   "execution_count": 120,
   "id": "a1d13ea1",
   "metadata": {},
   "outputs": [
    {
     "data": {
      "text/html": [
       "<div>\n",
       "<style scoped>\n",
       "    .dataframe tbody tr th:only-of-type {\n",
       "        vertical-align: middle;\n",
       "    }\n",
       "\n",
       "    .dataframe tbody tr th {\n",
       "        vertical-align: top;\n",
       "    }\n",
       "\n",
       "    .dataframe thead th {\n",
       "        text-align: right;\n",
       "    }\n",
       "</style>\n",
       "<table border=\"1\" class=\"dataframe\">\n",
       "  <thead>\n",
       "    <tr style=\"text-align: right;\">\n",
       "      <th></th>\n",
       "      <th>amount_per_hour</th>\n",
       "      <th>time_to_target</th>\n",
       "    </tr>\n",
       "    <tr>\n",
       "      <th>route</th>\n",
       "      <th></th>\n",
       "      <th></th>\n",
       "    </tr>\n",
       "  </thead>\n",
       "  <tbody>\n",
       "    <tr>\n",
       "      <th>40.77, -73.87 : 40.8, -73.94</th>\n",
       "      <td>131.04217</td>\n",
       "      <td>103.02027</td>\n",
       "    </tr>\n",
       "    <tr>\n",
       "      <th>40.78, -73.95 : 40.65, -73.78</th>\n",
       "      <td>130.55232</td>\n",
       "      <td>103.40682</td>\n",
       "    </tr>\n",
       "    <tr>\n",
       "      <th>40.78, -73.95 : 40.77, -73.87</th>\n",
       "      <td>129.75344</td>\n",
       "      <td>104.04348</td>\n",
       "    </tr>\n",
       "    <tr>\n",
       "      <th>40.78, -73.95 : 40.64, -73.79</th>\n",
       "      <td>124.17950</td>\n",
       "      <td>108.71360</td>\n",
       "    </tr>\n",
       "    <tr>\n",
       "      <th>40.78, -73.95 : 40.77, -73.86</th>\n",
       "      <td>124.13070</td>\n",
       "      <td>108.75634</td>\n",
       "    </tr>\n",
       "    <tr>\n",
       "      <th>40.77, -73.95 : 40.65, -73.78</th>\n",
       "      <td>124.03132</td>\n",
       "      <td>108.84348</td>\n",
       "    </tr>\n",
       "    <tr>\n",
       "      <th>40.77, -73.87 : 40.78, -73.95</th>\n",
       "      <td>123.34556</td>\n",
       "      <td>109.44860</td>\n",
       "    </tr>\n",
       "    <tr>\n",
       "      <th>40.77, -73.95 : 40.77, -73.87</th>\n",
       "      <td>122.91817</td>\n",
       "      <td>109.82916</td>\n",
       "    </tr>\n",
       "    <tr>\n",
       "      <th>40.74, -73.98 : 40.65, -73.78</th>\n",
       "      <td>122.82516</td>\n",
       "      <td>109.91233</td>\n",
       "    </tr>\n",
       "    <tr>\n",
       "      <th>40.65, -73.78 : 40.78, -73.95</th>\n",
       "      <td>122.64630</td>\n",
       "      <td>110.07262</td>\n",
       "    </tr>\n",
       "  </tbody>\n",
       "</table>\n",
       "</div>"
      ],
      "text/plain": [
       "                               amount_per_hour  time_to_target\n",
       "route                                                         \n",
       "40.77, -73.87 : 40.8, -73.94         131.04217       103.02027\n",
       "40.78, -73.95 : 40.65, -73.78        130.55232       103.40682\n",
       "40.78, -73.95 : 40.77, -73.87        129.75344       104.04348\n",
       "40.78, -73.95 : 40.64, -73.79        124.17950       108.71360\n",
       "40.78, -73.95 : 40.77, -73.86        124.13070       108.75634\n",
       "40.77, -73.95 : 40.65, -73.78        124.03132       108.84348\n",
       "40.77, -73.87 : 40.78, -73.95        123.34556       109.44860\n",
       "40.77, -73.95 : 40.77, -73.87        122.91817       109.82916\n",
       "40.74, -73.98 : 40.65, -73.78        122.82516       109.91233\n",
       "40.65, -73.78 : 40.78, -73.95        122.64630       110.07262"
      ]
     },
     "execution_count": 120,
     "metadata": {},
     "output_type": "execute_result"
    }
   ],
   "source": [
    "#Time required to achieve target (in mins)\n",
    "min_time['time_to_target'] = (target / min_time['amount_per_hour'])*60\n",
    "\n",
    "#Top 10 routes with minimum times\n",
    "min_time = min_time.sort_values(by='time_to_target')[:10]\n",
    "\n",
    "min_time"
   ]
  },
  {
   "cell_type": "code",
   "execution_count": 121,
   "id": "0701db5e",
   "metadata": {},
   "outputs": [],
   "source": [
    "m=folium.Map(location=[40.730610, -73.935242],zoom_start = 10,tiles='cartodbpositron')\n",
    "colors = ['red', 'blue', 'green', 'purple', 'orange', 'beige',   'darkpurple', 'pink',  'gray', 'black']\n",
    "\n",
    "for col, route in zip(colors,min_time.index):\n",
    "    \n",
    "    p_lat,p_long,d_lat,d_long = [float(v) for x in route.split(':') for v in x.split(',')]\n",
    "    folium.PolyLine([(p_lat,p_long),(d_lat,d_long)],\n",
    "                color=col,\n",
    "                weight=5,\n",
    "                opacity=0.8).add_to(m)"
   ]
  },
  {
   "cell_type": "code",
   "execution_count": 122,
   "id": "cdde9220",
   "metadata": {},
   "outputs": [
    {
     "data": {
      "text/html": [
       "<div style=\"width:100%;\"><div style=\"position:relative;width:100%;height:0;padding-bottom:60%;\"><span style=\"color:#565656\">Make this Notebook Trusted to load map: File -> Trust Notebook</span><iframe src=\"about:blank\" style=\"position:absolute;width:100%;height:100%;left:0;top:0;border:none !important;\" data-html=%3C%21DOCTYPE%20html%3E%0A%3Chead%3E%20%20%20%20%0A%20%20%20%20%3Cmeta%20http-equiv%3D%22content-type%22%20content%3D%22text/html%3B%20charset%3DUTF-8%22%20/%3E%0A%20%20%20%20%0A%20%20%20%20%20%20%20%20%3Cscript%3E%0A%20%20%20%20%20%20%20%20%20%20%20%20L_NO_TOUCH%20%3D%20false%3B%0A%20%20%20%20%20%20%20%20%20%20%20%20L_DISABLE_3D%20%3D%20false%3B%0A%20%20%20%20%20%20%20%20%3C/script%3E%0A%20%20%20%20%0A%20%20%20%20%3Cstyle%3Ehtml%2C%20body%20%7Bwidth%3A%20100%25%3Bheight%3A%20100%25%3Bmargin%3A%200%3Bpadding%3A%200%3B%7D%3C/style%3E%0A%20%20%20%20%3Cstyle%3E%23map%20%7Bposition%3Aabsolute%3Btop%3A0%3Bbottom%3A0%3Bright%3A0%3Bleft%3A0%3B%7D%3C/style%3E%0A%20%20%20%20%3Cscript%20src%3D%22https%3A//cdn.jsdelivr.net/npm/leaflet%401.6.0/dist/leaflet.js%22%3E%3C/script%3E%0A%20%20%20%20%3Cscript%20src%3D%22https%3A//code.jquery.com/jquery-1.12.4.min.js%22%3E%3C/script%3E%0A%20%20%20%20%3Cscript%20src%3D%22https%3A//maxcdn.bootstrapcdn.com/bootstrap/3.2.0/js/bootstrap.min.js%22%3E%3C/script%3E%0A%20%20%20%20%3Cscript%20src%3D%22https%3A//cdnjs.cloudflare.com/ajax/libs/Leaflet.awesome-markers/2.0.2/leaflet.awesome-markers.js%22%3E%3C/script%3E%0A%20%20%20%20%3Clink%20rel%3D%22stylesheet%22%20href%3D%22https%3A//cdn.jsdelivr.net/npm/leaflet%401.6.0/dist/leaflet.css%22/%3E%0A%20%20%20%20%3Clink%20rel%3D%22stylesheet%22%20href%3D%22https%3A//maxcdn.bootstrapcdn.com/bootstrap/3.2.0/css/bootstrap.min.css%22/%3E%0A%20%20%20%20%3Clink%20rel%3D%22stylesheet%22%20href%3D%22https%3A//maxcdn.bootstrapcdn.com/bootstrap/3.2.0/css/bootstrap-theme.min.css%22/%3E%0A%20%20%20%20%3Clink%20rel%3D%22stylesheet%22%20href%3D%22https%3A//maxcdn.bootstrapcdn.com/font-awesome/4.6.3/css/font-awesome.min.css%22/%3E%0A%20%20%20%20%3Clink%20rel%3D%22stylesheet%22%20href%3D%22https%3A//cdnjs.cloudflare.com/ajax/libs/Leaflet.awesome-markers/2.0.2/leaflet.awesome-markers.css%22/%3E%0A%20%20%20%20%3Clink%20rel%3D%22stylesheet%22%20href%3D%22https%3A//cdn.jsdelivr.net/gh/python-visualization/folium/folium/templates/leaflet.awesome.rotate.min.css%22/%3E%0A%20%20%20%20%0A%20%20%20%20%20%20%20%20%20%20%20%20%3Cmeta%20name%3D%22viewport%22%20content%3D%22width%3Ddevice-width%2C%0A%20%20%20%20%20%20%20%20%20%20%20%20%20%20%20%20initial-scale%3D1.0%2C%20maximum-scale%3D1.0%2C%20user-scalable%3Dno%22%20/%3E%0A%20%20%20%20%20%20%20%20%20%20%20%20%3Cstyle%3E%0A%20%20%20%20%20%20%20%20%20%20%20%20%20%20%20%20%23map_358cd0e7dab14e1eb6a708a0e3df7d82%20%7B%0A%20%20%20%20%20%20%20%20%20%20%20%20%20%20%20%20%20%20%20%20position%3A%20relative%3B%0A%20%20%20%20%20%20%20%20%20%20%20%20%20%20%20%20%20%20%20%20width%3A%20100.0%25%3B%0A%20%20%20%20%20%20%20%20%20%20%20%20%20%20%20%20%20%20%20%20height%3A%20100.0%25%3B%0A%20%20%20%20%20%20%20%20%20%20%20%20%20%20%20%20%20%20%20%20left%3A%200.0%25%3B%0A%20%20%20%20%20%20%20%20%20%20%20%20%20%20%20%20%20%20%20%20top%3A%200.0%25%3B%0A%20%20%20%20%20%20%20%20%20%20%20%20%20%20%20%20%7D%0A%20%20%20%20%20%20%20%20%20%20%20%20%3C/style%3E%0A%20%20%20%20%20%20%20%20%0A%3C/head%3E%0A%3Cbody%3E%20%20%20%20%0A%20%20%20%20%0A%20%20%20%20%20%20%20%20%20%20%20%20%3Cdiv%20class%3D%22folium-map%22%20id%3D%22map_358cd0e7dab14e1eb6a708a0e3df7d82%22%20%3E%3C/div%3E%0A%20%20%20%20%20%20%20%20%0A%3C/body%3E%0A%3Cscript%3E%20%20%20%20%0A%20%20%20%20%0A%20%20%20%20%20%20%20%20%20%20%20%20var%20map_358cd0e7dab14e1eb6a708a0e3df7d82%20%3D%20L.map%28%0A%20%20%20%20%20%20%20%20%20%20%20%20%20%20%20%20%22map_358cd0e7dab14e1eb6a708a0e3df7d82%22%2C%0A%20%20%20%20%20%20%20%20%20%20%20%20%20%20%20%20%7B%0A%20%20%20%20%20%20%20%20%20%20%20%20%20%20%20%20%20%20%20%20center%3A%20%5B40.73061%2C%20-73.935242%5D%2C%0A%20%20%20%20%20%20%20%20%20%20%20%20%20%20%20%20%20%20%20%20crs%3A%20L.CRS.EPSG3857%2C%0A%20%20%20%20%20%20%20%20%20%20%20%20%20%20%20%20%20%20%20%20zoom%3A%2010%2C%0A%20%20%20%20%20%20%20%20%20%20%20%20%20%20%20%20%20%20%20%20zoomControl%3A%20true%2C%0A%20%20%20%20%20%20%20%20%20%20%20%20%20%20%20%20%20%20%20%20preferCanvas%3A%20false%2C%0A%20%20%20%20%20%20%20%20%20%20%20%20%20%20%20%20%7D%0A%20%20%20%20%20%20%20%20%20%20%20%20%29%3B%0A%0A%20%20%20%20%20%20%20%20%20%20%20%20%0A%0A%20%20%20%20%20%20%20%20%0A%20%20%20%20%0A%20%20%20%20%20%20%20%20%20%20%20%20var%20tile_layer_1fbfe2a4fee946d4b4225a3952847262%20%3D%20L.tileLayer%28%0A%20%20%20%20%20%20%20%20%20%20%20%20%20%20%20%20%22https%3A//cartodb-basemaps-%7Bs%7D.global.ssl.fastly.net/light_all/%7Bz%7D/%7Bx%7D/%7By%7D.png%22%2C%0A%20%20%20%20%20%20%20%20%20%20%20%20%20%20%20%20%7B%22attribution%22%3A%20%22%5Cu0026copy%3B%20%5Cu003ca%20href%3D%5C%22http%3A//www.openstreetmap.org/copyright%5C%22%5Cu003eOpenStreetMap%5Cu003c/a%5Cu003e%20contributors%20%5Cu0026copy%3B%20%5Cu003ca%20href%3D%5C%22http%3A//cartodb.com/attributions%5C%22%5Cu003eCartoDB%5Cu003c/a%5Cu003e%2C%20CartoDB%20%5Cu003ca%20href%20%3D%5C%22http%3A//cartodb.com/attributions%5C%22%5Cu003eattributions%5Cu003c/a%5Cu003e%22%2C%20%22detectRetina%22%3A%20false%2C%20%22maxNativeZoom%22%3A%2018%2C%20%22maxZoom%22%3A%2018%2C%20%22minZoom%22%3A%200%2C%20%22noWrap%22%3A%20false%2C%20%22opacity%22%3A%201%2C%20%22subdomains%22%3A%20%22abc%22%2C%20%22tms%22%3A%20false%7D%0A%20%20%20%20%20%20%20%20%20%20%20%20%29.addTo%28map_358cd0e7dab14e1eb6a708a0e3df7d82%29%3B%0A%20%20%20%20%20%20%20%20%0A%20%20%20%20%0A%20%20%20%20%20%20%20%20%20%20%20%20var%20poly_line_261273fd0dbe4244898935196924badf%20%3D%20L.polyline%28%0A%20%20%20%20%20%20%20%20%20%20%20%20%20%20%20%20%5B%5B40.77%2C%20-73.87%5D%2C%20%5B40.8%2C%20-73.94%5D%5D%2C%0A%20%20%20%20%20%20%20%20%20%20%20%20%20%20%20%20%7B%22bubblingMouseEvents%22%3A%20true%2C%20%22color%22%3A%20%22red%22%2C%20%22dashArray%22%3A%20null%2C%20%22dashOffset%22%3A%20null%2C%20%22fill%22%3A%20false%2C%20%22fillColor%22%3A%20%22red%22%2C%20%22fillOpacity%22%3A%200.2%2C%20%22fillRule%22%3A%20%22evenodd%22%2C%20%22lineCap%22%3A%20%22round%22%2C%20%22lineJoin%22%3A%20%22round%22%2C%20%22noClip%22%3A%20false%2C%20%22opacity%22%3A%200.8%2C%20%22smoothFactor%22%3A%201.0%2C%20%22stroke%22%3A%20true%2C%20%22weight%22%3A%205%7D%0A%20%20%20%20%20%20%20%20%20%20%20%20%29.addTo%28map_358cd0e7dab14e1eb6a708a0e3df7d82%29%3B%0A%20%20%20%20%20%20%20%20%0A%20%20%20%20%0A%20%20%20%20%20%20%20%20%20%20%20%20var%20poly_line_97379cbaeeca4296ac37cf650795834d%20%3D%20L.polyline%28%0A%20%20%20%20%20%20%20%20%20%20%20%20%20%20%20%20%5B%5B40.78%2C%20-73.95%5D%2C%20%5B40.65%2C%20-73.78%5D%5D%2C%0A%20%20%20%20%20%20%20%20%20%20%20%20%20%20%20%20%7B%22bubblingMouseEvents%22%3A%20true%2C%20%22color%22%3A%20%22blue%22%2C%20%22dashArray%22%3A%20null%2C%20%22dashOffset%22%3A%20null%2C%20%22fill%22%3A%20false%2C%20%22fillColor%22%3A%20%22blue%22%2C%20%22fillOpacity%22%3A%200.2%2C%20%22fillRule%22%3A%20%22evenodd%22%2C%20%22lineCap%22%3A%20%22round%22%2C%20%22lineJoin%22%3A%20%22round%22%2C%20%22noClip%22%3A%20false%2C%20%22opacity%22%3A%200.8%2C%20%22smoothFactor%22%3A%201.0%2C%20%22stroke%22%3A%20true%2C%20%22weight%22%3A%205%7D%0A%20%20%20%20%20%20%20%20%20%20%20%20%29.addTo%28map_358cd0e7dab14e1eb6a708a0e3df7d82%29%3B%0A%20%20%20%20%20%20%20%20%0A%20%20%20%20%0A%20%20%20%20%20%20%20%20%20%20%20%20var%20poly_line_1e2defb555734feb83ba27025176abd3%20%3D%20L.polyline%28%0A%20%20%20%20%20%20%20%20%20%20%20%20%20%20%20%20%5B%5B40.78%2C%20-73.95%5D%2C%20%5B40.77%2C%20-73.87%5D%5D%2C%0A%20%20%20%20%20%20%20%20%20%20%20%20%20%20%20%20%7B%22bubblingMouseEvents%22%3A%20true%2C%20%22color%22%3A%20%22green%22%2C%20%22dashArray%22%3A%20null%2C%20%22dashOffset%22%3A%20null%2C%20%22fill%22%3A%20false%2C%20%22fillColor%22%3A%20%22green%22%2C%20%22fillOpacity%22%3A%200.2%2C%20%22fillRule%22%3A%20%22evenodd%22%2C%20%22lineCap%22%3A%20%22round%22%2C%20%22lineJoin%22%3A%20%22round%22%2C%20%22noClip%22%3A%20false%2C%20%22opacity%22%3A%200.8%2C%20%22smoothFactor%22%3A%201.0%2C%20%22stroke%22%3A%20true%2C%20%22weight%22%3A%205%7D%0A%20%20%20%20%20%20%20%20%20%20%20%20%29.addTo%28map_358cd0e7dab14e1eb6a708a0e3df7d82%29%3B%0A%20%20%20%20%20%20%20%20%0A%20%20%20%20%0A%20%20%20%20%20%20%20%20%20%20%20%20var%20poly_line_8f5a0256b9ee41629feb81fa3a7ac173%20%3D%20L.polyline%28%0A%20%20%20%20%20%20%20%20%20%20%20%20%20%20%20%20%5B%5B40.78%2C%20-73.95%5D%2C%20%5B40.64%2C%20-73.79%5D%5D%2C%0A%20%20%20%20%20%20%20%20%20%20%20%20%20%20%20%20%7B%22bubblingMouseEvents%22%3A%20true%2C%20%22color%22%3A%20%22purple%22%2C%20%22dashArray%22%3A%20null%2C%20%22dashOffset%22%3A%20null%2C%20%22fill%22%3A%20false%2C%20%22fillColor%22%3A%20%22purple%22%2C%20%22fillOpacity%22%3A%200.2%2C%20%22fillRule%22%3A%20%22evenodd%22%2C%20%22lineCap%22%3A%20%22round%22%2C%20%22lineJoin%22%3A%20%22round%22%2C%20%22noClip%22%3A%20false%2C%20%22opacity%22%3A%200.8%2C%20%22smoothFactor%22%3A%201.0%2C%20%22stroke%22%3A%20true%2C%20%22weight%22%3A%205%7D%0A%20%20%20%20%20%20%20%20%20%20%20%20%29.addTo%28map_358cd0e7dab14e1eb6a708a0e3df7d82%29%3B%0A%20%20%20%20%20%20%20%20%0A%20%20%20%20%0A%20%20%20%20%20%20%20%20%20%20%20%20var%20poly_line_692c983bca2e4740b770e1c0e7556d82%20%3D%20L.polyline%28%0A%20%20%20%20%20%20%20%20%20%20%20%20%20%20%20%20%5B%5B40.78%2C%20-73.95%5D%2C%20%5B40.77%2C%20-73.86%5D%5D%2C%0A%20%20%20%20%20%20%20%20%20%20%20%20%20%20%20%20%7B%22bubblingMouseEvents%22%3A%20true%2C%20%22color%22%3A%20%22orange%22%2C%20%22dashArray%22%3A%20null%2C%20%22dashOffset%22%3A%20null%2C%20%22fill%22%3A%20false%2C%20%22fillColor%22%3A%20%22orange%22%2C%20%22fillOpacity%22%3A%200.2%2C%20%22fillRule%22%3A%20%22evenodd%22%2C%20%22lineCap%22%3A%20%22round%22%2C%20%22lineJoin%22%3A%20%22round%22%2C%20%22noClip%22%3A%20false%2C%20%22opacity%22%3A%200.8%2C%20%22smoothFactor%22%3A%201.0%2C%20%22stroke%22%3A%20true%2C%20%22weight%22%3A%205%7D%0A%20%20%20%20%20%20%20%20%20%20%20%20%29.addTo%28map_358cd0e7dab14e1eb6a708a0e3df7d82%29%3B%0A%20%20%20%20%20%20%20%20%0A%20%20%20%20%0A%20%20%20%20%20%20%20%20%20%20%20%20var%20poly_line_4a2c8e4256a04010abc97c8f2908e308%20%3D%20L.polyline%28%0A%20%20%20%20%20%20%20%20%20%20%20%20%20%20%20%20%5B%5B40.77%2C%20-73.95%5D%2C%20%5B40.65%2C%20-73.78%5D%5D%2C%0A%20%20%20%20%20%20%20%20%20%20%20%20%20%20%20%20%7B%22bubblingMouseEvents%22%3A%20true%2C%20%22color%22%3A%20%22beige%22%2C%20%22dashArray%22%3A%20null%2C%20%22dashOffset%22%3A%20null%2C%20%22fill%22%3A%20false%2C%20%22fillColor%22%3A%20%22beige%22%2C%20%22fillOpacity%22%3A%200.2%2C%20%22fillRule%22%3A%20%22evenodd%22%2C%20%22lineCap%22%3A%20%22round%22%2C%20%22lineJoin%22%3A%20%22round%22%2C%20%22noClip%22%3A%20false%2C%20%22opacity%22%3A%200.8%2C%20%22smoothFactor%22%3A%201.0%2C%20%22stroke%22%3A%20true%2C%20%22weight%22%3A%205%7D%0A%20%20%20%20%20%20%20%20%20%20%20%20%29.addTo%28map_358cd0e7dab14e1eb6a708a0e3df7d82%29%3B%0A%20%20%20%20%20%20%20%20%0A%20%20%20%20%0A%20%20%20%20%20%20%20%20%20%20%20%20var%20poly_line_872706cc90e44d71a2fd4c175cb7bff0%20%3D%20L.polyline%28%0A%20%20%20%20%20%20%20%20%20%20%20%20%20%20%20%20%5B%5B40.77%2C%20-73.87%5D%2C%20%5B40.78%2C%20-73.95%5D%5D%2C%0A%20%20%20%20%20%20%20%20%20%20%20%20%20%20%20%20%7B%22bubblingMouseEvents%22%3A%20true%2C%20%22color%22%3A%20%22darkpurple%22%2C%20%22dashArray%22%3A%20null%2C%20%22dashOffset%22%3A%20null%2C%20%22fill%22%3A%20false%2C%20%22fillColor%22%3A%20%22darkpurple%22%2C%20%22fillOpacity%22%3A%200.2%2C%20%22fillRule%22%3A%20%22evenodd%22%2C%20%22lineCap%22%3A%20%22round%22%2C%20%22lineJoin%22%3A%20%22round%22%2C%20%22noClip%22%3A%20false%2C%20%22opacity%22%3A%200.8%2C%20%22smoothFactor%22%3A%201.0%2C%20%22stroke%22%3A%20true%2C%20%22weight%22%3A%205%7D%0A%20%20%20%20%20%20%20%20%20%20%20%20%29.addTo%28map_358cd0e7dab14e1eb6a708a0e3df7d82%29%3B%0A%20%20%20%20%20%20%20%20%0A%20%20%20%20%0A%20%20%20%20%20%20%20%20%20%20%20%20var%20poly_line_d6e1e8373632400cac31be14dfcc0848%20%3D%20L.polyline%28%0A%20%20%20%20%20%20%20%20%20%20%20%20%20%20%20%20%5B%5B40.77%2C%20-73.95%5D%2C%20%5B40.77%2C%20-73.87%5D%5D%2C%0A%20%20%20%20%20%20%20%20%20%20%20%20%20%20%20%20%7B%22bubblingMouseEvents%22%3A%20true%2C%20%22color%22%3A%20%22pink%22%2C%20%22dashArray%22%3A%20null%2C%20%22dashOffset%22%3A%20null%2C%20%22fill%22%3A%20false%2C%20%22fillColor%22%3A%20%22pink%22%2C%20%22fillOpacity%22%3A%200.2%2C%20%22fillRule%22%3A%20%22evenodd%22%2C%20%22lineCap%22%3A%20%22round%22%2C%20%22lineJoin%22%3A%20%22round%22%2C%20%22noClip%22%3A%20false%2C%20%22opacity%22%3A%200.8%2C%20%22smoothFactor%22%3A%201.0%2C%20%22stroke%22%3A%20true%2C%20%22weight%22%3A%205%7D%0A%20%20%20%20%20%20%20%20%20%20%20%20%29.addTo%28map_358cd0e7dab14e1eb6a708a0e3df7d82%29%3B%0A%20%20%20%20%20%20%20%20%0A%20%20%20%20%0A%20%20%20%20%20%20%20%20%20%20%20%20var%20poly_line_4efff49e7776493ab3091bff6cc1876b%20%3D%20L.polyline%28%0A%20%20%20%20%20%20%20%20%20%20%20%20%20%20%20%20%5B%5B40.74%2C%20-73.98%5D%2C%20%5B40.65%2C%20-73.78%5D%5D%2C%0A%20%20%20%20%20%20%20%20%20%20%20%20%20%20%20%20%7B%22bubblingMouseEvents%22%3A%20true%2C%20%22color%22%3A%20%22gray%22%2C%20%22dashArray%22%3A%20null%2C%20%22dashOffset%22%3A%20null%2C%20%22fill%22%3A%20false%2C%20%22fillColor%22%3A%20%22gray%22%2C%20%22fillOpacity%22%3A%200.2%2C%20%22fillRule%22%3A%20%22evenodd%22%2C%20%22lineCap%22%3A%20%22round%22%2C%20%22lineJoin%22%3A%20%22round%22%2C%20%22noClip%22%3A%20false%2C%20%22opacity%22%3A%200.8%2C%20%22smoothFactor%22%3A%201.0%2C%20%22stroke%22%3A%20true%2C%20%22weight%22%3A%205%7D%0A%20%20%20%20%20%20%20%20%20%20%20%20%29.addTo%28map_358cd0e7dab14e1eb6a708a0e3df7d82%29%3B%0A%20%20%20%20%20%20%20%20%0A%20%20%20%20%0A%20%20%20%20%20%20%20%20%20%20%20%20var%20poly_line_b54e9ab0a9c2449296eaf645131cc74f%20%3D%20L.polyline%28%0A%20%20%20%20%20%20%20%20%20%20%20%20%20%20%20%20%5B%5B40.65%2C%20-73.78%5D%2C%20%5B40.78%2C%20-73.95%5D%5D%2C%0A%20%20%20%20%20%20%20%20%20%20%20%20%20%20%20%20%7B%22bubblingMouseEvents%22%3A%20true%2C%20%22color%22%3A%20%22black%22%2C%20%22dashArray%22%3A%20null%2C%20%22dashOffset%22%3A%20null%2C%20%22fill%22%3A%20false%2C%20%22fillColor%22%3A%20%22black%22%2C%20%22fillOpacity%22%3A%200.2%2C%20%22fillRule%22%3A%20%22evenodd%22%2C%20%22lineCap%22%3A%20%22round%22%2C%20%22lineJoin%22%3A%20%22round%22%2C%20%22noClip%22%3A%20false%2C%20%22opacity%22%3A%200.8%2C%20%22smoothFactor%22%3A%201.0%2C%20%22stroke%22%3A%20true%2C%20%22weight%22%3A%205%7D%0A%20%20%20%20%20%20%20%20%20%20%20%20%29.addTo%28map_358cd0e7dab14e1eb6a708a0e3df7d82%29%3B%0A%20%20%20%20%20%20%20%20%0A%3C/script%3E onload=\"this.contentDocument.open();this.contentDocument.write(    decodeURIComponent(this.getAttribute('data-html')));this.contentDocument.close();\" allowfullscreen webkitallowfullscreen mozallowfullscreen></iframe></div></div>"
      ],
      "text/plain": [
       "<folium.folium.Map at 0x2442e5f9eb8>"
      ]
     },
     "execution_count": 122,
     "metadata": {},
     "output_type": "execute_result"
    }
   ],
   "source": [
    "m"
   ]
  },
  {
   "cell_type": "markdown",
   "id": "024936f0",
   "metadata": {},
   "source": [
    "# e.\tIf you run a taxi company with 10 taxis, how would you maximize your earnings?"
   ]
  },
  {
   "cell_type": "markdown",
   "id": "dd57c7d2",
   "metadata": {},
   "source": [
    "1. Ensure taxis are available at most popular dropoff and pickup locations especially in Manhattan area.\n",
    "\n",
    "2. Instruct taxi drivers with routes with highest earnings per hour\n",
    "\n",
    "3. Since evening times and weekend are busiest, ensure any preventive maintenance is done at other times and days.\n",
    "\n",
    "4. Since some of these popular routes are overcrowded, can divert like 4 of the taxis to operate on high total revenue with smaller individual trips."
   ]
  },
  {
   "cell_type": "code",
   "execution_count": null,
   "id": "b0fe1eea",
   "metadata": {},
   "outputs": [],
   "source": []
  }
 ],
 "metadata": {
  "kernelspec": {
   "display_name": "Python 3 (ipykernel)",
   "language": "python",
   "name": "python3"
  },
  "language_info": {
   "codemirror_mode": {
    "name": "ipython",
    "version": 3
   },
   "file_extension": ".py",
   "mimetype": "text/x-python",
   "name": "python",
   "nbconvert_exporter": "python",
   "pygments_lexer": "ipython3",
   "version": "3.7.3"
  }
 },
 "nbformat": 4,
 "nbformat_minor": 5
}
